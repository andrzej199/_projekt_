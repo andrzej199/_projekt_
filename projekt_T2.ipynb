{
 "cells": [
  {
   "cell_type": "markdown",
   "metadata": {},
   "source": [
    "# Wybór wartości dla zmiennych sterujących dalszym przetwarzaniem"
   ]
  },
  {
   "cell_type": "markdown",
   "metadata": {},
   "source": [
    "## Ze zrównoważeniem danych trenujących lub bez"
   ]
  },
  {
   "cell_type": "markdown",
   "metadata": {},
   "source": [
    "W związku z faktem, że dane w analizowanym zbiorze są niezrównoważone w zakresie zmiennej Disbursed czyli y, możliwe są dwie metody przetwarzania:\n",
    "1. Bez równoważenia danych w zbiorze trenującym - zmienna zrownowaz_dane_train = False\n",
    "2. Ze zrównoważeniem danych w zbiorze trenującym - zmienna zrownowaz_dane_train = True"
   ]
  },
  {
   "cell_type": "markdown",
   "metadata": {},
   "source": [
    "Należy mieć na uwadze, że przy wyborze False dla większości zaimplementowanych modeli nie da się obliczyć ROC_AUC (zerowa skuteczność prognozowania \"1\" dla y)"
   ]
  },
  {
   "cell_type": "markdown",
   "metadata": {},
   "source": [
    "## Metoda równoważenia danych trenujących"
   ]
  },
  {
   "cell_type": "markdown",
   "metadata": {},
   "source": [
    "W przypadku wyboru wersji ze zrównoważeniem danych w zbiorze trenującym możliwy jest jeszcze wybór metody zrównoważenia danych. Za wybór metody odpowiada zmienna: wersja1 = True lub False # jeśli False to wybierana jest wersja 2\n",
    "1. Wybór losowy rekordów ze zbioru z samymi 1 w zmiennej Disnursed (tyle razy ile trzeba by zrównoważyć dane) -to małem pierwotnie,\n",
    "2. Prosta multiplikacja zbioru z samymi 1 w zmiennej Disbursed (tyle razy ile trzeba by zrównoważyć dane) - chciałem sprawdzić czy to wpłynie na wyniki"
   ]
  },
  {
   "cell_type": "code",
   "execution_count": 85,
   "metadata": {},
   "outputs": [],
   "source": [
    "zrownowaz_dane_train = True\n",
    "wersja1 = True"
   ]
  },
  {
   "cell_type": "markdown",
   "metadata": {},
   "source": [
    "# Wczytanie i przygotowanie danych"
   ]
  },
  {
   "cell_type": "code",
   "execution_count": 86,
   "metadata": {},
   "outputs": [],
   "source": [
    "import pandas as pd\n",
    "import numpy as np"
   ]
  },
  {
   "cell_type": "code",
   "execution_count": 87,
   "metadata": {},
   "outputs": [],
   "source": [
    "# wczytanie zbioru w postaci linku do danych; testowo wybór dwóch systemów kodowania\n",
    "link_do_danych = \"https://raw.githubusercontent.com/saimadhu-polamuri/DataHakthon3X/master/dataSet/Train.csv\"\n",
    "system_kodowania1 = \"ISO-8859-1\"\n",
    "system_kodowania2 = \"latin\"\n",
    "\n",
    "df1_ = pd.read_csv(link_do_danych, header=0, index_col = 'ID', encoding = system_kodowania1,\n",
    "                    converters={'Employer_Name': str, 'Salary_Account': str, 'City': str, 'DOB': str}, \n",
    "                    parse_dates=['Lead_Creation_Date'])\n",
    "df2_ = pd.read_csv(link_do_danych, header=0, index_col = 'ID', encoding = system_kodowania2,\n",
    "                    converters={'Employer_Name': str, 'Salary_Account': str, 'City': str, 'DOB': str}, \n",
    "                    parse_dates=['Lead_Creation_Date'])\n",
    "\n",
    "# uwaga, nie parsuję automatycznie daty urodzenia 'DOB' gdyż read_csv wczytuje lata \"dwucyforwe\" do roku 68 jak 20XX,\n",
    "# zamiast (w tym przypadku) jako 19XX"
   ]
  },
  {
   "cell_type": "markdown",
   "metadata": {},
   "source": [
    "Dalsza analiza prowadzona jest dla danych w: 'df1_'"
   ]
  },
  {
   "cell_type": "code",
   "execution_count": 88,
   "metadata": {},
   "outputs": [],
   "source": [
    "# usunięcie zmiennej (kolumny): LoggedIn zgodnie z wymogami projektu\n",
    "df1_ = df1_.drop(columns=[\"LoggedIn\"])"
   ]
  },
  {
   "cell_type": "code",
   "execution_count": 89,
   "metadata": {},
   "outputs": [
    {
     "data": {
      "text/html": [
       "<div>\n",
       "<style scoped>\n",
       "    .dataframe tbody tr th:only-of-type {\n",
       "        vertical-align: middle;\n",
       "    }\n",
       "\n",
       "    .dataframe tbody tr th {\n",
       "        vertical-align: top;\n",
       "    }\n",
       "\n",
       "    .dataframe thead th {\n",
       "        text-align: right;\n",
       "    }\n",
       "</style>\n",
       "<table border=\"1\" class=\"dataframe\">\n",
       "  <thead>\n",
       "    <tr style=\"text-align: right;\">\n",
       "      <th></th>\n",
       "      <th>Gender</th>\n",
       "      <th>City</th>\n",
       "      <th>Monthly_Income</th>\n",
       "      <th>DOB</th>\n",
       "      <th>Lead_Creation_Date</th>\n",
       "      <th>Loan_Amount_Applied</th>\n",
       "      <th>Loan_Tenure_Applied</th>\n",
       "      <th>Existing_EMI</th>\n",
       "      <th>Employer_Name</th>\n",
       "      <th>Salary_Account</th>\n",
       "      <th>Mobile_Verified</th>\n",
       "      <th>Var5</th>\n",
       "      <th>Var1</th>\n",
       "      <th>Loan_Amount_Submitted</th>\n",
       "      <th>Loan_Tenure_Submitted</th>\n",
       "      <th>Interest_Rate</th>\n",
       "      <th>Processing_Fee</th>\n",
       "      <th>EMI_Loan_Submitted</th>\n",
       "      <th>Filled_Form</th>\n",
       "      <th>Device_Type</th>\n",
       "      <th>Var2</th>\n",
       "      <th>Source</th>\n",
       "      <th>Var4</th>\n",
       "      <th>Disbursed</th>\n",
       "    </tr>\n",
       "    <tr>\n",
       "      <th>ID</th>\n",
       "      <th></th>\n",
       "      <th></th>\n",
       "      <th></th>\n",
       "      <th></th>\n",
       "      <th></th>\n",
       "      <th></th>\n",
       "      <th></th>\n",
       "      <th></th>\n",
       "      <th></th>\n",
       "      <th></th>\n",
       "      <th></th>\n",
       "      <th></th>\n",
       "      <th></th>\n",
       "      <th></th>\n",
       "      <th></th>\n",
       "      <th></th>\n",
       "      <th></th>\n",
       "      <th></th>\n",
       "      <th></th>\n",
       "      <th></th>\n",
       "      <th></th>\n",
       "      <th></th>\n",
       "      <th></th>\n",
       "      <th></th>\n",
       "    </tr>\n",
       "  </thead>\n",
       "  <tbody>\n",
       "    <tr>\n",
       "      <th>ID000002C20</th>\n",
       "      <td>Female</td>\n",
       "      <td>Delhi</td>\n",
       "      <td>20000</td>\n",
       "      <td>23-May-78</td>\n",
       "      <td>2015-05-15</td>\n",
       "      <td>300000.0</td>\n",
       "      <td>5.0</td>\n",
       "      <td>0.0</td>\n",
       "      <td>CYBOSOL</td>\n",
       "      <td>HDFC Bank</td>\n",
       "      <td>N</td>\n",
       "      <td>0</td>\n",
       "      <td>HBXX</td>\n",
       "      <td>NaN</td>\n",
       "      <td>NaN</td>\n",
       "      <td>NaN</td>\n",
       "      <td>NaN</td>\n",
       "      <td>NaN</td>\n",
       "      <td>N</td>\n",
       "      <td>Web-browser</td>\n",
       "      <td>G</td>\n",
       "      <td>S122</td>\n",
       "      <td>1</td>\n",
       "      <td>0</td>\n",
       "    </tr>\n",
       "    <tr>\n",
       "      <th>ID000004E40</th>\n",
       "      <td>Male</td>\n",
       "      <td>Mumbai</td>\n",
       "      <td>35000</td>\n",
       "      <td>07-Oct-85</td>\n",
       "      <td>2015-05-04</td>\n",
       "      <td>200000.0</td>\n",
       "      <td>2.0</td>\n",
       "      <td>0.0</td>\n",
       "      <td>TATA CONSULTANCY SERVICES LTD (TCS)</td>\n",
       "      <td>ICICI Bank</td>\n",
       "      <td>Y</td>\n",
       "      <td>13</td>\n",
       "      <td>HBXA</td>\n",
       "      <td>200000.0</td>\n",
       "      <td>2.0</td>\n",
       "      <td>13.25</td>\n",
       "      <td>NaN</td>\n",
       "      <td>6762.9</td>\n",
       "      <td>N</td>\n",
       "      <td>Web-browser</td>\n",
       "      <td>G</td>\n",
       "      <td>S122</td>\n",
       "      <td>3</td>\n",
       "      <td>0</td>\n",
       "    </tr>\n",
       "    <tr>\n",
       "      <th>ID000007H20</th>\n",
       "      <td>Male</td>\n",
       "      <td>Panchkula</td>\n",
       "      <td>22500</td>\n",
       "      <td>10-Oct-81</td>\n",
       "      <td>2015-05-19</td>\n",
       "      <td>600000.0</td>\n",
       "      <td>4.0</td>\n",
       "      <td>0.0</td>\n",
       "      <td>ALCHEMIST HOSPITALS LTD</td>\n",
       "      <td>State Bank of India</td>\n",
       "      <td>Y</td>\n",
       "      <td>0</td>\n",
       "      <td>HBXX</td>\n",
       "      <td>450000.0</td>\n",
       "      <td>4.0</td>\n",
       "      <td>NaN</td>\n",
       "      <td>NaN</td>\n",
       "      <td>NaN</td>\n",
       "      <td>N</td>\n",
       "      <td>Web-browser</td>\n",
       "      <td>B</td>\n",
       "      <td>S143</td>\n",
       "      <td>1</td>\n",
       "      <td>0</td>\n",
       "    </tr>\n",
       "    <tr>\n",
       "      <th>ID000008I30</th>\n",
       "      <td>Male</td>\n",
       "      <td>Saharsa</td>\n",
       "      <td>35000</td>\n",
       "      <td>30-Nov-87</td>\n",
       "      <td>2015-05-09</td>\n",
       "      <td>1000000.0</td>\n",
       "      <td>5.0</td>\n",
       "      <td>0.0</td>\n",
       "      <td>BIHAR GOVERNMENT</td>\n",
       "      <td>State Bank of India</td>\n",
       "      <td>Y</td>\n",
       "      <td>10</td>\n",
       "      <td>HBXX</td>\n",
       "      <td>920000.0</td>\n",
       "      <td>5.0</td>\n",
       "      <td>NaN</td>\n",
       "      <td>NaN</td>\n",
       "      <td>NaN</td>\n",
       "      <td>N</td>\n",
       "      <td>Web-browser</td>\n",
       "      <td>B</td>\n",
       "      <td>S143</td>\n",
       "      <td>3</td>\n",
       "      <td>0</td>\n",
       "    </tr>\n",
       "    <tr>\n",
       "      <th>ID000009J40</th>\n",
       "      <td>Male</td>\n",
       "      <td>Bengaluru</td>\n",
       "      <td>100000</td>\n",
       "      <td>17-Feb-84</td>\n",
       "      <td>2015-05-20</td>\n",
       "      <td>500000.0</td>\n",
       "      <td>2.0</td>\n",
       "      <td>25000.0</td>\n",
       "      <td>GLOBAL EDGE SOFTWARE</td>\n",
       "      <td>HDFC Bank</td>\n",
       "      <td>Y</td>\n",
       "      <td>17</td>\n",
       "      <td>HBXX</td>\n",
       "      <td>500000.0</td>\n",
       "      <td>2.0</td>\n",
       "      <td>NaN</td>\n",
       "      <td>NaN</td>\n",
       "      <td>NaN</td>\n",
       "      <td>N</td>\n",
       "      <td>Web-browser</td>\n",
       "      <td>B</td>\n",
       "      <td>S134</td>\n",
       "      <td>3</td>\n",
       "      <td>0</td>\n",
       "    </tr>\n",
       "  </tbody>\n",
       "</table>\n",
       "</div>"
      ],
      "text/plain": [
       "             Gender       City  Monthly_Income        DOB Lead_Creation_Date  \\\n",
       "ID                                                                             \n",
       "ID000002C20  Female      Delhi           20000  23-May-78         2015-05-15   \n",
       "ID000004E40    Male     Mumbai           35000  07-Oct-85         2015-05-04   \n",
       "ID000007H20    Male  Panchkula           22500  10-Oct-81         2015-05-19   \n",
       "ID000008I30    Male    Saharsa           35000  30-Nov-87         2015-05-09   \n",
       "ID000009J40    Male  Bengaluru          100000  17-Feb-84         2015-05-20   \n",
       "\n",
       "             Loan_Amount_Applied  Loan_Tenure_Applied  Existing_EMI  \\\n",
       "ID                                                                    \n",
       "ID000002C20             300000.0                  5.0           0.0   \n",
       "ID000004E40             200000.0                  2.0           0.0   \n",
       "ID000007H20             600000.0                  4.0           0.0   \n",
       "ID000008I30            1000000.0                  5.0           0.0   \n",
       "ID000009J40             500000.0                  2.0       25000.0   \n",
       "\n",
       "                                   Employer_Name       Salary_Account  \\\n",
       "ID                                                                      \n",
       "ID000002C20                              CYBOSOL            HDFC Bank   \n",
       "ID000004E40  TATA CONSULTANCY SERVICES LTD (TCS)           ICICI Bank   \n",
       "ID000007H20              ALCHEMIST HOSPITALS LTD  State Bank of India   \n",
       "ID000008I30                     BIHAR GOVERNMENT  State Bank of India   \n",
       "ID000009J40                 GLOBAL EDGE SOFTWARE            HDFC Bank   \n",
       "\n",
       "            Mobile_Verified  Var5  Var1  Loan_Amount_Submitted  \\\n",
       "ID                                                               \n",
       "ID000002C20               N     0  HBXX                    NaN   \n",
       "ID000004E40               Y    13  HBXA               200000.0   \n",
       "ID000007H20               Y     0  HBXX               450000.0   \n",
       "ID000008I30               Y    10  HBXX               920000.0   \n",
       "ID000009J40               Y    17  HBXX               500000.0   \n",
       "\n",
       "             Loan_Tenure_Submitted  Interest_Rate  Processing_Fee  \\\n",
       "ID                                                                  \n",
       "ID000002C20                    NaN            NaN             NaN   \n",
       "ID000004E40                    2.0          13.25             NaN   \n",
       "ID000007H20                    4.0            NaN             NaN   \n",
       "ID000008I30                    5.0            NaN             NaN   \n",
       "ID000009J40                    2.0            NaN             NaN   \n",
       "\n",
       "             EMI_Loan_Submitted Filled_Form  Device_Type Var2 Source  Var4  \\\n",
       "ID                                                                           \n",
       "ID000002C20                 NaN           N  Web-browser    G   S122     1   \n",
       "ID000004E40              6762.9           N  Web-browser    G   S122     3   \n",
       "ID000007H20                 NaN           N  Web-browser    B   S143     1   \n",
       "ID000008I30                 NaN           N  Web-browser    B   S143     3   \n",
       "ID000009J40                 NaN           N  Web-browser    B   S134     3   \n",
       "\n",
       "             Disbursed  \n",
       "ID                      \n",
       "ID000002C20          0  \n",
       "ID000004E40          0  \n",
       "ID000007H20          0  \n",
       "ID000008I30          0  \n",
       "ID000009J40          0  "
      ]
     },
     "metadata": {},
     "output_type": "display_data"
    }
   ],
   "source": [
    "# modyfikacja parametrów wyświetlania liczby kolumn i wierszy z ramki pandas w celu przeglądu danych\n",
    "with pd.option_context('display.max_rows', 20, 'display.max_columns', 999):\n",
    "    display(df1_.head(5))"
   ]
  },
  {
   "cell_type": "code",
   "execution_count": 90,
   "metadata": {},
   "outputs": [
    {
     "name": "stdout",
     "output_type": "stream",
     "text": [
      "<class 'pandas.core.frame.DataFrame'>\n",
      "Index: 87020 entries, ID000002C20 to ID124821V10\n",
      "Data columns (total 24 columns):\n",
      "Gender                   87020 non-null object\n",
      "City                     87020 non-null object\n",
      "Monthly_Income           87020 non-null int64\n",
      "DOB                      87020 non-null object\n",
      "Lead_Creation_Date       87020 non-null datetime64[ns]\n",
      "Loan_Amount_Applied      86949 non-null float64\n",
      "Loan_Tenure_Applied      86949 non-null float64\n",
      "Existing_EMI             86949 non-null float64\n",
      "Employer_Name            87020 non-null object\n",
      "Salary_Account           87020 non-null object\n",
      "Mobile_Verified          87020 non-null object\n",
      "Var5                     87020 non-null int64\n",
      "Var1                     87020 non-null object\n",
      "Loan_Amount_Submitted    52407 non-null float64\n",
      "Loan_Tenure_Submitted    52407 non-null float64\n",
      "Interest_Rate            27726 non-null float64\n",
      "Processing_Fee           27420 non-null float64\n",
      "EMI_Loan_Submitted       27726 non-null float64\n",
      "Filled_Form              87020 non-null object\n",
      "Device_Type              87020 non-null object\n",
      "Var2                     87020 non-null object\n",
      "Source                   87020 non-null object\n",
      "Var4                     87020 non-null int64\n",
      "Disbursed                87020 non-null int64\n",
      "dtypes: datetime64[ns](1), float64(8), int64(4), object(11)\n",
      "memory usage: 16.6+ MB\n"
     ]
    }
   ],
   "source": [
    "# przegląd informacji o danych w df1\n",
    "df1_.info(20)"
   ]
  },
  {
   "cell_type": "markdown",
   "metadata": {},
   "source": [
    "1. Poniżej przekształcam wszystkie daty wg reguły: ROK = 1900 + rr, gdzie rr to dwucyfrowy rok (typ int) wyodrębniony z pola DOB, zawierającego datę urodzenia w postaci string. W analizowanym zbiorze danych problem z datą dotyczy lat 50 - 68, które zamieniam na 1950-1968, podczas gdy read_csv wczytywałby je z automatu jako 2050 - 2068\n",
    "2. Następnie z tak uzyskanej daty obliczam przybliżony wiek w latach dla każdego wnioskującego o kredyt poprzez odjęcie od daty: Lead_Creation_Date jego daty urodzenia: DOBd (już w formacie daty)\n",
    "3. Dodatkowy warunek dotyczy sytuacji, w której różnica w latach = 100 (sytuacja ta ma mieksce dla kilkunstu rekordów dla których data Lead_Creation_Date oraz data urodzenia są sobie równe) Wtedy taktujmy to za błąd przy wpisywaniu danych i wstawiamy jako wiek: NaN "
   ]
  },
  {
   "cell_type": "code",
   "execution_count": 91,
   "metadata": {},
   "outputs": [],
   "source": [
    "from datetime import datetime\n",
    "from dateutil import relativedelta\n",
    "\n",
    "DOBdlst = [] # lista, do której wpiszę poprawnie wyliczone daty urodzenia już w formacie daty\n",
    "Agelst = [] # lista, do której wpiszę wiek wnioskodawcy wyrażony w latach (od Lead_Creation_Date odejmiemy datę urodzenia)\n",
    "\n",
    "for i in range (0, len(df1_)):\n",
    "    DOBstr = df1_['DOB'][i]\n",
    "    rr = int(DOBstr[-2:])\n",
    "    rok = 1900 + rr # wyliczenie roku wg podanych wyżej założeń\n",
    "    DOBstr = DOBstr[0:7]+str(rok) # złączenie roku 4-cyfrowego z dniem i miesiącem daty urodzenia\n",
    "    DOBdate = datetime.strptime(DOBstr, '%d-%b-%Y') # przekształcenie daty urodzenia na format daty\n",
    "    DOBdlst.append(DOBdate) # dołączenie danej daty do listy z datami urodzenia\n",
    "    date_L = df1_['Lead_Creation_Date'][i]\n",
    "    difference = relativedelta.relativedelta(date_L, DOBdate) # odjęcie od Lead_Creation_Date daty urodzenia wnioskodawcy\n",
    "    years = difference.years\n",
    "    if years != 100: # jest kilkanaście rekordów gdzie daty urodzenia i składania wniosku\n",
    "                     # są sobie równe, co jest niemożliwe, \n",
    "                     # ktoś pomylił sie przy wpisywaniu danych\n",
    "        Agelst.append(years)\n",
    "    else:\n",
    "        #print(years)\n",
    "        Agelst.append(np.nan) # gdy różnica w datach = 100 wstawiamy wartość NaN\n",
    "\n",
    "# utworzenie nowych pól w df1_ w oparciu o w/w listy\n",
    "df1_['DOBd'] = DOBdlst\n",
    "df1_['estimated_age_in_years'] = Agelst"
   ]
  },
  {
   "cell_type": "code",
   "execution_count": 92,
   "metadata": {},
   "outputs": [
    {
     "data": {
      "text/plain": [
       "71.0       1\n",
       "86.0       1\n",
       "78.0       1\n",
       "66.0       1\n",
       "82.0       1\n",
       "77.0       1\n",
       "69.0       3\n",
       "73.0       4\n",
       "72.0       4\n",
       "68.0       5\n",
       "67.0       6\n",
       "65.0      12\n",
       "62.0      22\n",
       "17.0      25\n",
       "61.0      27\n",
       "63.0      28\n",
       "64.0      42\n",
       "60.0      49\n",
       "59.0      81\n",
       "58.0     102\n",
       "56.0     130\n",
       "57.0     148\n",
       "18.0     189\n",
       "55.0     234\n",
       "54.0     240\n",
       "53.0     281\n",
       "52.0     297\n",
       "19.0     324\n",
       "51.0     325\n",
       "50.0     360\n",
       "49.0     367\n",
       "48.0     385\n",
       "46.0     474\n",
       "47.0     476\n",
       "44.0     556\n",
       "43.0     616\n",
       "20.0     705\n",
       "42.0     769\n",
       "41.0     803\n",
       "45.0     987\n",
       "40.0    1047\n",
       "39.0    1179\n",
       "38.0    1383\n",
       "21.0    1402\n",
       "37.0    1617\n",
       "36.0    1929\n",
       "22.0    2658\n",
       "35.0    2664\n",
       "34.0    3270\n",
       "33.0    3603\n",
       "23.0    4070\n",
       "32.0    4170\n",
       "31.0    4779\n",
       "24.0    5290\n",
       "30.0    5588\n",
       "29.0    6220\n",
       "28.0    6485\n",
       "25.0    6627\n",
       "27.0    6959\n",
       "26.0    6981\n",
       "Name: estimated_age_in_years, dtype: int64"
      ]
     },
     "execution_count": 92,
     "metadata": {},
     "output_type": "execute_result"
    }
   ],
   "source": [
    "# sprawdzenie efektów zastosowania powyższego algorytmu\n",
    "kontrolnie1 = df1_.estimated_age_in_years.value_counts().sort_values()\n",
    "kontrolnie1"
   ]
  },
  {
   "cell_type": "code",
   "execution_count": 93,
   "metadata": {
    "scrolled": true
   },
   "outputs": [
    {
     "data": {
      "text/html": [
       "<div>\n",
       "<style scoped>\n",
       "    .dataframe tbody tr th:only-of-type {\n",
       "        vertical-align: middle;\n",
       "    }\n",
       "\n",
       "    .dataframe tbody tr th {\n",
       "        vertical-align: top;\n",
       "    }\n",
       "\n",
       "    .dataframe thead th {\n",
       "        text-align: right;\n",
       "    }\n",
       "</style>\n",
       "<table border=\"1\" class=\"dataframe\">\n",
       "  <thead>\n",
       "    <tr style=\"text-align: right;\">\n",
       "      <th></th>\n",
       "      <th>Gender</th>\n",
       "      <th>City</th>\n",
       "      <th>Monthly_Income</th>\n",
       "      <th>DOB</th>\n",
       "      <th>Lead_Creation_Date</th>\n",
       "      <th>Loan_Amount_Applied</th>\n",
       "      <th>Loan_Tenure_Applied</th>\n",
       "      <th>Existing_EMI</th>\n",
       "      <th>Employer_Name</th>\n",
       "      <th>Salary_Account</th>\n",
       "      <th>...</th>\n",
       "      <th>Processing_Fee</th>\n",
       "      <th>EMI_Loan_Submitted</th>\n",
       "      <th>Filled_Form</th>\n",
       "      <th>Device_Type</th>\n",
       "      <th>Var2</th>\n",
       "      <th>Source</th>\n",
       "      <th>Var4</th>\n",
       "      <th>Disbursed</th>\n",
       "      <th>DOBd</th>\n",
       "      <th>estimated_age_in_years</th>\n",
       "    </tr>\n",
       "    <tr>\n",
       "      <th>ID</th>\n",
       "      <th></th>\n",
       "      <th></th>\n",
       "      <th></th>\n",
       "      <th></th>\n",
       "      <th></th>\n",
       "      <th></th>\n",
       "      <th></th>\n",
       "      <th></th>\n",
       "      <th></th>\n",
       "      <th></th>\n",
       "      <th></th>\n",
       "      <th></th>\n",
       "      <th></th>\n",
       "      <th></th>\n",
       "      <th></th>\n",
       "      <th></th>\n",
       "      <th></th>\n",
       "      <th></th>\n",
       "      <th></th>\n",
       "      <th></th>\n",
       "      <th></th>\n",
       "    </tr>\n",
       "  </thead>\n",
       "  <tbody>\n",
       "    <tr>\n",
       "      <th>ID000002C20</th>\n",
       "      <td>Female</td>\n",
       "      <td>Delhi</td>\n",
       "      <td>20000</td>\n",
       "      <td>23-May-78</td>\n",
       "      <td>2015-05-15</td>\n",
       "      <td>300000.0</td>\n",
       "      <td>5.0</td>\n",
       "      <td>0.0</td>\n",
       "      <td>CYBOSOL</td>\n",
       "      <td>HDFC Bank</td>\n",
       "      <td>...</td>\n",
       "      <td>NaN</td>\n",
       "      <td>NaN</td>\n",
       "      <td>N</td>\n",
       "      <td>Web-browser</td>\n",
       "      <td>G</td>\n",
       "      <td>S122</td>\n",
       "      <td>1</td>\n",
       "      <td>0</td>\n",
       "      <td>1978-05-23</td>\n",
       "      <td>36.0</td>\n",
       "    </tr>\n",
       "    <tr>\n",
       "      <th>ID000004E40</th>\n",
       "      <td>Male</td>\n",
       "      <td>Mumbai</td>\n",
       "      <td>35000</td>\n",
       "      <td>07-Oct-85</td>\n",
       "      <td>2015-05-04</td>\n",
       "      <td>200000.0</td>\n",
       "      <td>2.0</td>\n",
       "      <td>0.0</td>\n",
       "      <td>TATA CONSULTANCY SERVICES LTD (TCS)</td>\n",
       "      <td>ICICI Bank</td>\n",
       "      <td>...</td>\n",
       "      <td>NaN</td>\n",
       "      <td>6762.9</td>\n",
       "      <td>N</td>\n",
       "      <td>Web-browser</td>\n",
       "      <td>G</td>\n",
       "      <td>S122</td>\n",
       "      <td>3</td>\n",
       "      <td>0</td>\n",
       "      <td>1985-10-07</td>\n",
       "      <td>29.0</td>\n",
       "    </tr>\n",
       "    <tr>\n",
       "      <th>ID000007H20</th>\n",
       "      <td>Male</td>\n",
       "      <td>Panchkula</td>\n",
       "      <td>22500</td>\n",
       "      <td>10-Oct-81</td>\n",
       "      <td>2015-05-19</td>\n",
       "      <td>600000.0</td>\n",
       "      <td>4.0</td>\n",
       "      <td>0.0</td>\n",
       "      <td>ALCHEMIST HOSPITALS LTD</td>\n",
       "      <td>State Bank of India</td>\n",
       "      <td>...</td>\n",
       "      <td>NaN</td>\n",
       "      <td>NaN</td>\n",
       "      <td>N</td>\n",
       "      <td>Web-browser</td>\n",
       "      <td>B</td>\n",
       "      <td>S143</td>\n",
       "      <td>1</td>\n",
       "      <td>0</td>\n",
       "      <td>1981-10-10</td>\n",
       "      <td>33.0</td>\n",
       "    </tr>\n",
       "    <tr>\n",
       "      <th>ID000008I30</th>\n",
       "      <td>Male</td>\n",
       "      <td>Saharsa</td>\n",
       "      <td>35000</td>\n",
       "      <td>30-Nov-87</td>\n",
       "      <td>2015-05-09</td>\n",
       "      <td>1000000.0</td>\n",
       "      <td>5.0</td>\n",
       "      <td>0.0</td>\n",
       "      <td>BIHAR GOVERNMENT</td>\n",
       "      <td>State Bank of India</td>\n",
       "      <td>...</td>\n",
       "      <td>NaN</td>\n",
       "      <td>NaN</td>\n",
       "      <td>N</td>\n",
       "      <td>Web-browser</td>\n",
       "      <td>B</td>\n",
       "      <td>S143</td>\n",
       "      <td>3</td>\n",
       "      <td>0</td>\n",
       "      <td>1987-11-30</td>\n",
       "      <td>27.0</td>\n",
       "    </tr>\n",
       "    <tr>\n",
       "      <th>ID000009J40</th>\n",
       "      <td>Male</td>\n",
       "      <td>Bengaluru</td>\n",
       "      <td>100000</td>\n",
       "      <td>17-Feb-84</td>\n",
       "      <td>2015-05-20</td>\n",
       "      <td>500000.0</td>\n",
       "      <td>2.0</td>\n",
       "      <td>25000.0</td>\n",
       "      <td>GLOBAL EDGE SOFTWARE</td>\n",
       "      <td>HDFC Bank</td>\n",
       "      <td>...</td>\n",
       "      <td>NaN</td>\n",
       "      <td>NaN</td>\n",
       "      <td>N</td>\n",
       "      <td>Web-browser</td>\n",
       "      <td>B</td>\n",
       "      <td>S134</td>\n",
       "      <td>3</td>\n",
       "      <td>0</td>\n",
       "      <td>1984-02-17</td>\n",
       "      <td>31.0</td>\n",
       "    </tr>\n",
       "  </tbody>\n",
       "</table>\n",
       "<p>5 rows × 26 columns</p>\n",
       "</div>"
      ],
      "text/plain": [
       "             Gender       City  Monthly_Income        DOB Lead_Creation_Date  \\\n",
       "ID                                                                             \n",
       "ID000002C20  Female      Delhi           20000  23-May-78         2015-05-15   \n",
       "ID000004E40    Male     Mumbai           35000  07-Oct-85         2015-05-04   \n",
       "ID000007H20    Male  Panchkula           22500  10-Oct-81         2015-05-19   \n",
       "ID000008I30    Male    Saharsa           35000  30-Nov-87         2015-05-09   \n",
       "ID000009J40    Male  Bengaluru          100000  17-Feb-84         2015-05-20   \n",
       "\n",
       "             Loan_Amount_Applied  Loan_Tenure_Applied  Existing_EMI  \\\n",
       "ID                                                                    \n",
       "ID000002C20             300000.0                  5.0           0.0   \n",
       "ID000004E40             200000.0                  2.0           0.0   \n",
       "ID000007H20             600000.0                  4.0           0.0   \n",
       "ID000008I30            1000000.0                  5.0           0.0   \n",
       "ID000009J40             500000.0                  2.0       25000.0   \n",
       "\n",
       "                                   Employer_Name       Salary_Account  ...  \\\n",
       "ID                                                                     ...   \n",
       "ID000002C20                              CYBOSOL            HDFC Bank  ...   \n",
       "ID000004E40  TATA CONSULTANCY SERVICES LTD (TCS)           ICICI Bank  ...   \n",
       "ID000007H20              ALCHEMIST HOSPITALS LTD  State Bank of India  ...   \n",
       "ID000008I30                     BIHAR GOVERNMENT  State Bank of India  ...   \n",
       "ID000009J40                 GLOBAL EDGE SOFTWARE            HDFC Bank  ...   \n",
       "\n",
       "            Processing_Fee  EMI_Loan_Submitted Filled_Form  Device_Type  Var2  \\\n",
       "ID                                                                              \n",
       "ID000002C20            NaN                 NaN           N  Web-browser     G   \n",
       "ID000004E40            NaN              6762.9           N  Web-browser     G   \n",
       "ID000007H20            NaN                 NaN           N  Web-browser     B   \n",
       "ID000008I30            NaN                 NaN           N  Web-browser     B   \n",
       "ID000009J40            NaN                 NaN           N  Web-browser     B   \n",
       "\n",
       "             Source  Var4  Disbursed       DOBd estimated_age_in_years  \n",
       "ID                                                                      \n",
       "ID000002C20    S122     1          0 1978-05-23                   36.0  \n",
       "ID000004E40    S122     3          0 1985-10-07                   29.0  \n",
       "ID000007H20    S143     1          0 1981-10-10                   33.0  \n",
       "ID000008I30    S143     3          0 1987-11-30                   27.0  \n",
       "ID000009J40    S134     3          0 1984-02-17                   31.0  \n",
       "\n",
       "[5 rows x 26 columns]"
      ]
     },
     "execution_count": 93,
     "metadata": {},
     "output_type": "execute_result"
    }
   ],
   "source": [
    "df1_.head()"
   ]
  },
  {
   "cell_type": "code",
   "execution_count": 94,
   "metadata": {},
   "outputs": [],
   "source": [
    "# zapis danych lokalnie na dysk (wykorzystywany w początkowej fazie analizy, w celu przeglądu danych)\n",
    "#df1_.to_csv(path_or_buf = 'dane/df1_d1.csv', encoding='utf-8')"
   ]
  },
  {
   "cell_type": "markdown",
   "metadata": {},
   "source": [
    "Dalsza analiza prowadzona jest dla danych w: _df1_"
   ]
  },
  {
   "cell_type": "code",
   "execution_count": 95,
   "metadata": {},
   "outputs": [
    {
     "data": {
      "text/html": [
       "<div>\n",
       "<style scoped>\n",
       "    .dataframe tbody tr th:only-of-type {\n",
       "        vertical-align: middle;\n",
       "    }\n",
       "\n",
       "    .dataframe tbody tr th {\n",
       "        vertical-align: top;\n",
       "    }\n",
       "\n",
       "    .dataframe thead th {\n",
       "        text-align: right;\n",
       "    }\n",
       "</style>\n",
       "<table border=\"1\" class=\"dataframe\">\n",
       "  <thead>\n",
       "    <tr style=\"text-align: right;\">\n",
       "      <th></th>\n",
       "      <th>Gender</th>\n",
       "      <th>City</th>\n",
       "      <th>Monthly_Income</th>\n",
       "      <th>Loan_Amount_Applied</th>\n",
       "      <th>Loan_Tenure_Applied</th>\n",
       "      <th>Existing_EMI</th>\n",
       "      <th>Employer_Name</th>\n",
       "      <th>Salary_Account</th>\n",
       "      <th>Mobile_Verified</th>\n",
       "      <th>Var5</th>\n",
       "      <th>...</th>\n",
       "      <th>Interest_Rate</th>\n",
       "      <th>Processing_Fee</th>\n",
       "      <th>EMI_Loan_Submitted</th>\n",
       "      <th>Filled_Form</th>\n",
       "      <th>Device_Type</th>\n",
       "      <th>Var2</th>\n",
       "      <th>Source</th>\n",
       "      <th>Var4</th>\n",
       "      <th>Disbursed</th>\n",
       "      <th>estimated_age_in_years</th>\n",
       "    </tr>\n",
       "    <tr>\n",
       "      <th>ID</th>\n",
       "      <th></th>\n",
       "      <th></th>\n",
       "      <th></th>\n",
       "      <th></th>\n",
       "      <th></th>\n",
       "      <th></th>\n",
       "      <th></th>\n",
       "      <th></th>\n",
       "      <th></th>\n",
       "      <th></th>\n",
       "      <th></th>\n",
       "      <th></th>\n",
       "      <th></th>\n",
       "      <th></th>\n",
       "      <th></th>\n",
       "      <th></th>\n",
       "      <th></th>\n",
       "      <th></th>\n",
       "      <th></th>\n",
       "      <th></th>\n",
       "      <th></th>\n",
       "    </tr>\n",
       "  </thead>\n",
       "  <tbody>\n",
       "    <tr>\n",
       "      <th>ID000002C20</th>\n",
       "      <td>Female</td>\n",
       "      <td>Delhi</td>\n",
       "      <td>20000</td>\n",
       "      <td>300000.0</td>\n",
       "      <td>5.0</td>\n",
       "      <td>0.0</td>\n",
       "      <td>CYBOSOL</td>\n",
       "      <td>HDFC Bank</td>\n",
       "      <td>N</td>\n",
       "      <td>0</td>\n",
       "      <td>...</td>\n",
       "      <td>NaN</td>\n",
       "      <td>NaN</td>\n",
       "      <td>NaN</td>\n",
       "      <td>N</td>\n",
       "      <td>Web-browser</td>\n",
       "      <td>G</td>\n",
       "      <td>S122</td>\n",
       "      <td>1</td>\n",
       "      <td>0</td>\n",
       "      <td>36.0</td>\n",
       "    </tr>\n",
       "    <tr>\n",
       "      <th>ID000004E40</th>\n",
       "      <td>Male</td>\n",
       "      <td>Mumbai</td>\n",
       "      <td>35000</td>\n",
       "      <td>200000.0</td>\n",
       "      <td>2.0</td>\n",
       "      <td>0.0</td>\n",
       "      <td>TATA CONSULTANCY SERVICES LTD (TCS)</td>\n",
       "      <td>ICICI Bank</td>\n",
       "      <td>Y</td>\n",
       "      <td>13</td>\n",
       "      <td>...</td>\n",
       "      <td>13.25</td>\n",
       "      <td>NaN</td>\n",
       "      <td>6762.9</td>\n",
       "      <td>N</td>\n",
       "      <td>Web-browser</td>\n",
       "      <td>G</td>\n",
       "      <td>S122</td>\n",
       "      <td>3</td>\n",
       "      <td>0</td>\n",
       "      <td>29.0</td>\n",
       "    </tr>\n",
       "    <tr>\n",
       "      <th>ID000007H20</th>\n",
       "      <td>Male</td>\n",
       "      <td>Panchkula</td>\n",
       "      <td>22500</td>\n",
       "      <td>600000.0</td>\n",
       "      <td>4.0</td>\n",
       "      <td>0.0</td>\n",
       "      <td>ALCHEMIST HOSPITALS LTD</td>\n",
       "      <td>State Bank of India</td>\n",
       "      <td>Y</td>\n",
       "      <td>0</td>\n",
       "      <td>...</td>\n",
       "      <td>NaN</td>\n",
       "      <td>NaN</td>\n",
       "      <td>NaN</td>\n",
       "      <td>N</td>\n",
       "      <td>Web-browser</td>\n",
       "      <td>B</td>\n",
       "      <td>S143</td>\n",
       "      <td>1</td>\n",
       "      <td>0</td>\n",
       "      <td>33.0</td>\n",
       "    </tr>\n",
       "  </tbody>\n",
       "</table>\n",
       "<p>3 rows × 23 columns</p>\n",
       "</div>"
      ],
      "text/plain": [
       "             Gender       City  Monthly_Income  Loan_Amount_Applied  \\\n",
       "ID                                                                    \n",
       "ID000002C20  Female      Delhi           20000             300000.0   \n",
       "ID000004E40    Male     Mumbai           35000             200000.0   \n",
       "ID000007H20    Male  Panchkula           22500             600000.0   \n",
       "\n",
       "             Loan_Tenure_Applied  Existing_EMI  \\\n",
       "ID                                               \n",
       "ID000002C20                  5.0           0.0   \n",
       "ID000004E40                  2.0           0.0   \n",
       "ID000007H20                  4.0           0.0   \n",
       "\n",
       "                                   Employer_Name       Salary_Account  \\\n",
       "ID                                                                      \n",
       "ID000002C20                              CYBOSOL            HDFC Bank   \n",
       "ID000004E40  TATA CONSULTANCY SERVICES LTD (TCS)           ICICI Bank   \n",
       "ID000007H20              ALCHEMIST HOSPITALS LTD  State Bank of India   \n",
       "\n",
       "            Mobile_Verified  Var5  ... Interest_Rate  Processing_Fee  \\\n",
       "ID                                 ...                                 \n",
       "ID000002C20               N     0  ...           NaN             NaN   \n",
       "ID000004E40               Y    13  ...         13.25             NaN   \n",
       "ID000007H20               Y     0  ...           NaN             NaN   \n",
       "\n",
       "             EMI_Loan_Submitted  Filled_Form  Device_Type  Var2 Source Var4  \\\n",
       "ID                                                                            \n",
       "ID000002C20                 NaN            N  Web-browser     G   S122    1   \n",
       "ID000004E40              6762.9            N  Web-browser     G   S122    3   \n",
       "ID000007H20                 NaN            N  Web-browser     B   S143    1   \n",
       "\n",
       "            Disbursed estimated_age_in_years  \n",
       "ID                                            \n",
       "ID000002C20         0                   36.0  \n",
       "ID000004E40         0                   29.0  \n",
       "ID000007H20         0                   33.0  \n",
       "\n",
       "[3 rows x 23 columns]"
      ]
     },
     "execution_count": 95,
     "metadata": {},
     "output_type": "execute_result"
    }
   ],
   "source": [
    "#usunięcie zbędnych kolumn z datami, zostawiam tylko wiek\n",
    "df1 = df1_.drop(columns=[\"Lead_Creation_Date\", \"DOB\", \"DOBd\"])\n",
    "df1.head(3)"
   ]
  },
  {
   "cell_type": "code",
   "execution_count": 96,
   "metadata": {},
   "outputs": [
    {
     "name": "stdout",
     "output_type": "stream",
     "text": [
      "<class 'pandas.core.frame.DataFrame'>\n",
      "Index: 87020 entries, ID000002C20 to ID124821V10\n",
      "Data columns (total 23 columns):\n",
      "Gender                    87020 non-null object\n",
      "City                      87020 non-null object\n",
      "Monthly_Income            87020 non-null int64\n",
      "Loan_Amount_Applied       86949 non-null float64\n",
      "Loan_Tenure_Applied       86949 non-null float64\n",
      "Existing_EMI              86949 non-null float64\n",
      "Employer_Name             87020 non-null object\n",
      "Salary_Account            87020 non-null object\n",
      "Mobile_Verified           87020 non-null object\n",
      "Var5                      87020 non-null int64\n",
      "Var1                      87020 non-null object\n",
      "Loan_Amount_Submitted     52407 non-null float64\n",
      "Loan_Tenure_Submitted     52407 non-null float64\n",
      "Interest_Rate             27726 non-null float64\n",
      "Processing_Fee            27420 non-null float64\n",
      "EMI_Loan_Submitted        27726 non-null float64\n",
      "Filled_Form               87020 non-null object\n",
      "Device_Type               87020 non-null object\n",
      "Var2                      87020 non-null object\n",
      "Source                    87020 non-null object\n",
      "Var4                      87020 non-null int64\n",
      "Disbursed                 87020 non-null int64\n",
      "estimated_age_in_years    87003 non-null float64\n",
      "dtypes: float64(9), int64(4), object(10)\n",
      "memory usage: 18.4+ MB\n"
     ]
    }
   ],
   "source": [
    "# wyświeltenie informacji o typach zmiennych w ramce: df1\n",
    "df1.info()"
   ]
  },
  {
   "cell_type": "code",
   "execution_count": 97,
   "metadata": {},
   "outputs": [
    {
     "data": {
      "text/plain": [
       "Male      49848\n",
       "Female    37172\n",
       "Name: Gender, dtype: int64"
      ]
     },
     "execution_count": 97,
     "metadata": {},
     "output_type": "execute_result"
    }
   ],
   "source": [
    "# przegląd wartości wybranych zmiennych\n",
    "df1.Gender.value_counts()"
   ]
  },
  {
   "cell_type": "code",
   "execution_count": 98,
   "metadata": {},
   "outputs": [
    {
     "data": {
      "text/plain": [
       "N    67530\n",
       "Y    19490\n",
       "Name: Filled_Form, dtype: int64"
      ]
     },
     "execution_count": 98,
     "metadata": {},
     "output_type": "execute_result"
    }
   ],
   "source": [
    "df1.Filled_Form.value_counts()"
   ]
  },
  {
   "cell_type": "code",
   "execution_count": 99,
   "metadata": {},
   "outputs": [
    {
     "data": {
      "text/plain": [
       "HBXX    59294\n",
       "HBXC     9010\n",
       "HBXB     4479\n",
       "HAXA     2909\n",
       "HBXA     2123\n",
       "HAXB     2011\n",
       "HBXD     1964\n",
       "HAXC     1536\n",
       "HBXH      970\n",
       "HCXF      722\n",
       "HAYT      508\n",
       "HAVC      384\n",
       "HAXM      268\n",
       "HCXD      237\n",
       "HCYS      217\n",
       "HVYS      186\n",
       "HAZD      109\n",
       "HCXG       78\n",
       "HAXF       15\n",
       "Name: Var1, dtype: int64"
      ]
     },
     "execution_count": 99,
     "metadata": {},
     "output_type": "execute_result"
    }
   ],
   "source": [
    "df1.Var1.value_counts()"
   ]
  },
  {
   "cell_type": "code",
   "execution_count": 100,
   "metadata": {},
   "outputs": [
    {
     "data": {
      "text/plain": [
       "B    37280\n",
       "G    33032\n",
       "C    14210\n",
       "E     1315\n",
       "D      634\n",
       "F      544\n",
       "A        5\n",
       "Name: Var2, dtype: int64"
      ]
     },
     "execution_count": 100,
     "metadata": {},
     "output_type": "execute_result"
    }
   ],
   "source": [
    "df1.Var2.value_counts()"
   ]
  },
  {
   "cell_type": "code",
   "execution_count": 101,
   "metadata": {},
   "outputs": [
    {
     "data": {
      "text/plain": [
       "3    25260\n",
       "1    23906\n",
       "5    20266\n",
       "4     6577\n",
       "2     5931\n",
       "0     2546\n",
       "7     2302\n",
       "6      232\n",
       "Name: Var4, dtype: int64"
      ]
     },
     "execution_count": 101,
     "metadata": {},
     "output_type": "execute_result"
    }
   ],
   "source": [
    "df1.Var4.value_counts()"
   ]
  },
  {
   "cell_type": "code",
   "execution_count": 102,
   "metadata": {},
   "outputs": [
    {
     "data": {
      "text/plain": [
       "0     29087\n",
       "1     12236\n",
       "3      6759\n",
       "11     5204\n",
       "2      4485\n",
       "14     3662\n",
       "15     3509\n",
       "12     2989\n",
       "13     2622\n",
       "8      2515\n",
       "10     2427\n",
       "9      2281\n",
       "16     2097\n",
       "4      1815\n",
       "17     1691\n",
       "7      1489\n",
       "6       983\n",
       "5       975\n",
       "18      194\n",
       "Name: Var5, dtype: int64"
      ]
     },
     "execution_count": 102,
     "metadata": {},
     "output_type": "execute_result"
    }
   ],
   "source": [
    "df1.Var5.value_counts()"
   ]
  },
  {
   "cell_type": "code",
   "execution_count": 103,
   "metadata": {},
   "outputs": [
    {
     "data": {
      "text/plain": [
       "Delhi                  12527\n",
       "Bengaluru              10824\n",
       "Mumbai                 10795\n",
       "Hyderabad               7272\n",
       "Chennai                 6916\n",
       "Pune                    5207\n",
       "Kolkata                 2888\n",
       "Ahmedabad               1788\n",
       "Jaipur                  1331\n",
       "Gurgaon                 1212\n",
       "Coimbatore              1147\n",
       "                        1003\n",
       "Thane                    905\n",
       "Chandigarh               870\n",
       "Surat                    802\n",
       "Visakhapatnam            764\n",
       "Indore                   734\n",
       "Vadodara                 624\n",
       "Nagpur                   594\n",
       "Lucknow                  580\n",
       "Ghaziabad                560\n",
       "Bhopal                   513\n",
       "Kochi                    492\n",
       "Patna                    461\n",
       "Faridabad                447\n",
       "Madurai                  375\n",
       "Noida                    373\n",
       "Gautam Buddha Nagar      338\n",
       "Dehradun                 314\n",
       "Raipur                   289\n",
       "                       ...  \n",
       "VIRPUR                     1\n",
       "Dhalai                     1\n",
       "Munger                     1\n",
       "Kishanganj                 1\n",
       "Damoh                      1\n",
       "Bandipore                  1\n",
       "Poonch                     1\n",
       "Sawai Madhopur             1\n",
       "Giridih                    1\n",
       "Kargil                     1\n",
       "Beawar                     1\n",
       "Baksa                      1\n",
       "SOMNATH JUNAGADHA          1\n",
       "Kupwara                    1\n",
       "CHIKHLI (GUJ.)             1\n",
       "Sheikhpura                 1\n",
       "Dantewada                  1\n",
       "Gadwal                     1\n",
       "Muktsar                    1\n",
       "KHAMBHAT                   1\n",
       "CHOTILA                    1\n",
       "North Cachar Hills         1\n",
       "LUNAWADA                   1\n",
       "Champawat                  1\n",
       "Himatnagar                 1\n",
       "Mandla                     1\n",
       "Anjaw                      1\n",
       "UDWADA                     1\n",
       "Mainpuri                   1\n",
       "GANDEVI                    1\n",
       "Name: City, Length: 698, dtype: int64"
      ]
     },
     "execution_count": 103,
     "metadata": {},
     "output_type": "execute_result"
    }
   ],
   "source": [
    "df1.City.value_counts()"
   ]
  },
  {
   "cell_type": "code",
   "execution_count": 104,
   "metadata": {},
   "outputs": [
    {
     "data": {
      "text/plain": [
       "0                                                     4914\n",
       "TATA CONSULTANCY SERVICES LTD (TCS)                    550\n",
       "COGNIZANT TECHNOLOGY SOLUTIONS INDIA PVT LTD           404\n",
       "ACCENTURE SERVICES PVT LTD                             324\n",
       "GOOGLE                                                 301\n",
       "HCL TECHNOLOGIES LTD                                   250\n",
       "ICICI BANK LTD                                         239\n",
       "INDIAN AIR FORCE                                       191\n",
       "INFOSYS TECHNOLOGIES                                   181\n",
       "GENPACT                                                179\n",
       "IBM CORPORATION                                        173\n",
       "INDIAN ARMY                                            171\n",
       "TYPE SLOWLY FOR AUTO FILL                              162\n",
       "WIPRO TECHNOLOGIES                                     155\n",
       "HDFC BANK LTD                                          148\n",
       "IKYA HUMAN CAPITAL SOLUTIONS LTD                       142\n",
       "STATE GOVERNMENT                                       134\n",
       "INDIAN RAILWAY                                         130\n",
       "INDIAN NAVY                                            128\n",
       "ARMY                                                   126\n",
       "WIPRO BPO                                              116\n",
       "OTHERS                                                 115\n",
       "CONVERGYS INDIA SERVICES PVT LTD                       113\n",
       "TECH MAHINDRA LTD                                      113\n",
       "SERCO BPO PVT LTD                                      108\n",
       "IBM GLOBAL SERVICES INDIA LTD                          104\n",
       "CONCENTRIX DAKSH SERVICES INDIA PVT LTD                 99\n",
       "CAPGEMINI INDIA PVT LTD                                 96\n",
       "RANDSTAD INDIA LTD                                      96\n",
       "ADECCO INDIA PVT LTD                                    95\n",
       "                                                      ... \n",
       "MAZHAR MEHMOOD SHAILKH                                   1\n",
       "BROADCOM INDIA TECHNOLOGIES PVT LTD                      1\n",
       "JUHU RESORTS AND DEVELOPMENT PVT LTD                     1\n",
       "SUCHITRA DEVI                                            1\n",
       "CREO CONCEPTS                                            1\n",
       "RAHUL THAKUR                                             1\n",
       "KAWARINDER SINGH                                         1\n",
       "KUNJ BIHARI MEENA                                        1\n",
       "AMOL GAIKWAD                                             1\n",
       "ARVIND VERMA                                             1\n",
       "RANA PRATAPSINGH                                         1\n",
       "PRASAD GORTI                                             1\n",
       "KENMAX BUSINESS SOLUTIONS PVT LTD.                       1\n",
       "PIPAL TREE VENTURES PVT LTD                              1\n",
       "S.M. JR COLLEGE OF SCIENCE DARWHA YAVATMAL               1\n",
       "OCS SERVICES INDIA PVT LTD                               1\n",
       "K SRINIVASA RAO                                          1\n",
       "CHANCHAL KUMAR ROUTH                                     1\n",
       "SMILE ELEMENTS DENTAL                                    1\n",
       "AJANTA PHARMA LIMITED                                    1\n",
       "AARAMBH UNIVERSAL MARKETING LTD                          1\n",
       "KUDOS AYURVEDA                                           1\n",
       "DASS K                                                   1\n",
       "TALENT SPRINT PVT LTD                                    1\n",
       "RAMKRISHANA MISSION SEVA PRATHAIN                        1\n",
       "GOVT. OF JHARKHAND                                       1\n",
       "VIAANTE BUSINES SOLUTION                                 1\n",
       "HANSRAJ                                                  1\n",
       "VISUAL GRAPHICS COMPUTING SER INDIA PVT LTD              1\n",
       "FOSMA MARITIME INSTITUTE AND RESEARCH ORGANISATION       1\n",
       "Name: Employer_Name, Length: 43568, dtype: int64"
      ]
     },
     "execution_count": 104,
     "metadata": {},
     "output_type": "execute_result"
    }
   ],
   "source": [
    "df1.Employer_Name.value_counts()"
   ]
  },
  {
   "cell_type": "code",
   "execution_count": 105,
   "metadata": {},
   "outputs": [
    {
     "data": {
      "text/plain": [
       "Web-browser    64316\n",
       "Mobile         22704\n",
       "Name: Device_Type, dtype: int64"
      ]
     },
     "execution_count": 105,
     "metadata": {},
     "output_type": "execute_result"
    }
   ],
   "source": [
    "df1.Device_Type.value_counts()"
   ]
  },
  {
   "cell_type": "code",
   "execution_count": 106,
   "metadata": {},
   "outputs": [
    {
     "data": {
      "text/plain": [
       "S122    38567\n",
       "S133    29885\n",
       "S159     5599\n",
       "S143     4332\n",
       "S127     1931\n",
       "S137     1724\n",
       "S134     1301\n",
       "S161      769\n",
       "S151      720\n",
       "S157      650\n",
       "S153      494\n",
       "S156      308\n",
       "S144      299\n",
       "S158      208\n",
       "S123       73\n",
       "S141       57\n",
       "S162       36\n",
       "S124       24\n",
       "S160       11\n",
       "S150       10\n",
       "S155        4\n",
       "S138        3\n",
       "S136        3\n",
       "S129        3\n",
       "S139        3\n",
       "S135        2\n",
       "S154        1\n",
       "S130        1\n",
       "S125        1\n",
       "S140        1\n",
       "Name: Source, dtype: int64"
      ]
     },
     "execution_count": 106,
     "metadata": {},
     "output_type": "execute_result"
    }
   ],
   "source": [
    "df1.Source.value_counts()"
   ]
  },
  {
   "cell_type": "code",
   "execution_count": 107,
   "metadata": {},
   "outputs": [
    {
     "data": {
      "text/plain": [
       "HDFC Bank                                          17695\n",
       "ICICI Bank                                         13636\n",
       "State Bank of India                                11843\n",
       "                                                   11764\n",
       "Axis Bank                                           8783\n",
       "Citibank                                            2376\n",
       "Kotak Bank                                          2067\n",
       "IDBI Bank                                           1550\n",
       "Punjab National Bank                                1201\n",
       "Bank of India                                       1170\n",
       "Bank of Baroda                                      1126\n",
       "Standard Chartered Bank                              995\n",
       "Canara Bank                                          990\n",
       "Union Bank of India                                  951\n",
       "Yes Bank                                             779\n",
       "ING Vysya                                            678\n",
       "Corporation bank                                     649\n",
       "Indian Overseas Bank                                 612\n",
       "State Bank of Hyderabad                              597\n",
       "Indian Bank                                          555\n",
       "Oriental Bank of Commerce                            524\n",
       "IndusInd Bank                                        503\n",
       "Andhra Bank                                          485\n",
       "Central Bank of India                                445\n",
       "Syndicate Bank                                       415\n",
       "Bank of Maharasthra                                  406\n",
       "State Bank of Bikaner & Jaipur                       331\n",
       "HSBC                                                 328\n",
       "Karur Vysya Bank                                     326\n",
       "State Bank of Mysore                                 255\n",
       "Federal Bank                                         253\n",
       "Vijaya Bank                                          252\n",
       "Allahabad Bank                                       238\n",
       "UCO Bank                                             237\n",
       "State Bank of Travancore                             227\n",
       "Karnataka Bank                                       200\n",
       "Saraswat Bank                                        195\n",
       "United Bank of India                                 183\n",
       "Dena Bank                                            182\n",
       "State Bank of Patiala                                177\n",
       "South Indian Bank                                    160\n",
       "Deutsche Bank                                        125\n",
       "Abhyuday Co-op Bank Ltd                              108\n",
       "The Ratnakar Bank Ltd                                 83\n",
       "Tamil Nadu Mercantile Bank                            71\n",
       "Punjab & Sind bank                                    66\n",
       "J&K Bank                                              59\n",
       "Lakshmi Vilas bank                                    50\n",
       "Dhanalakshmi Bank Ltd                                 42\n",
       "State Bank of Indore                                  18\n",
       "Catholic Syrian Bank                                  14\n",
       "India Bulls                                           11\n",
       "B N P Paribas                                          8\n",
       "GIC Housing Finance Ltd                                8\n",
       "Firstrand Bank Limited                                 7\n",
       "Bank of Rajasthan                                      5\n",
       "Kerala Gramin Bank                                     4\n",
       "Industrial And Commercial Bank Of China Limited        2\n",
       "Name: Salary_Account, dtype: int64"
      ]
     },
     "execution_count": 107,
     "metadata": {},
     "output_type": "execute_result"
    }
   ],
   "source": [
    "df1.Salary_Account.value_counts()"
   ]
  },
  {
   "cell_type": "code",
   "execution_count": 108,
   "metadata": {},
   "outputs": [
    {
     "data": {
      "text/plain": [
       "Y    56481\n",
       "N    30539\n",
       "Name: Mobile_Verified, dtype: int64"
      ]
     },
     "execution_count": 108,
     "metadata": {},
     "output_type": "execute_result"
    }
   ],
   "source": [
    "df1.Mobile_Verified.value_counts()"
   ]
  },
  {
   "cell_type": "markdown",
   "metadata": {},
   "source": [
    "## Podsumowanie przeglądu zmiennych\n",
    "## Kwestia zakresu zmiennych uwzględnianych w modelach\n",
    "Na podstawie dostępnych informacji o tym co zawierają poszczególne pola, w/w przeglądu wartości w wybranych polach oraz merytorycznego - bankowego podejścia do tematu domniemuję, że następujące pola nie powinny istotnie rzutować na udzielenie pożyczki lub też ze względów merytorycznych nie należy ich brać pod uwagę:"
   ]
  },
  {
   "cell_type": "markdown",
   "metadata": {},
   "source": [
    "=> Var1, Var2, Var4, Var5, Source\n",
    "Brak konkretnych informacji co dane pole zawiera,"
   ]
  },
  {
   "cell_type": "markdown",
   "metadata": {},
   "source": [
    "=> Employer_Name, Salary_Account, Interest_Rate, Processing_Fee, City,\n",
    "Na decyzję o udzieleniu pożyczki nie powinny wpływać: Nazwa pracodawcy, nazwa banku gdzie przelewane jest wynagrodzenie, poziom oprocentowania, prowizja, a bardzo możliwe, że również miasto aktualnego pobytu kredytobiorcy jak i jego wiek (to jest do sprawdzenia, przy krótkookresowej pożyczce nie powiniem mieć dużego znaczenia)."
   ]
  },
  {
   "cell_type": "markdown",
   "metadata": {},
   "source": [
    "W relatywnie niewielkim stopniu powinny też rzutować na wyniki zmienne typu: płeć (Gender), wiek (estimated_age_in_years), Mobile_Verified, Filled_Form, Device_Type."
   ]
  },
  {
   "cell_type": "markdown",
   "metadata": {},
   "source": [
    "Dlatego też w dalszej części zmienne te będę grupami usuwał i testował modele bez wybranej ich części lub całości.\n",
    "Wpierw jednak poddam część z nich etykietowaniu (na wartości numeryczne), gdyż zawierają dane tekstowe."
   ]
  },
  {
   "cell_type": "markdown",
   "metadata": {},
   "source": [
    "Na podstawie analizy nazw pól oraz dostępnej informacji w internecie, przyjmuję ponadto, że jeśli dla danego wnioskodawcy, pola: 'Loan_Amount_Submitted', 'Loan_Tenure_Submitted', 'EMI_Loan_Submitted' są puste to do finalnej analizy wniosku kredytowego brano pod uwagę wartości z pól: 'Loan_Amount_Applied' oraz 'Loan_Tenure_Applied', 'Existing_EMI'\n",
    "W związku z tym poniżej przenoszę odpowiednie wartości z pól \"applied\" do \"submited\" (jeśli są puste) i w dalszej części biorę pod uwagę już tylko pola \"submited\", a 'applied' usuwam."
   ]
  },
  {
   "cell_type": "markdown",
   "metadata": {},
   "source": [
    "## Zmienne podstawowe (mające merytorycznie zasadniczy wpływ na wynik klasyfikacji)"
   ]
  },
  {
   "cell_type": "markdown",
   "metadata": {},
   "source": [
    "Zmienne które uznaję za mające znaczący wpływ na wynik są następujące:\n",
    "Monthly_Income, Loan_Amount_Submitted, Loan_Tenure_Submitted, EMI_Loan_Submitted"
   ]
  },
  {
   "cell_type": "code",
   "execution_count": 109,
   "metadata": {},
   "outputs": [],
   "source": [
    "df1['Loan_Amount_Submitted'].fillna(df1['Loan_Amount_Applied'], inplace=True)\n",
    "df1['Loan_Tenure_Submitted'].fillna(df1['Loan_Tenure_Applied'], inplace=True)\n",
    "df1['EMI_Loan_Submitted'].fillna(df1['Existing_EMI'], inplace=True)"
   ]
  },
  {
   "cell_type": "code",
   "execution_count": 110,
   "metadata": {},
   "outputs": [],
   "source": [
    "# usuwam pola typu 'Applied' oraz 'Existing Emi'\n",
    "df1 = df1.drop(columns=[\"Loan_Tenure_Applied\", \"Loan_Amount_Applied\", \"Existing_EMI\"])"
   ]
  },
  {
   "cell_type": "code",
   "execution_count": 111,
   "metadata": {},
   "outputs": [],
   "source": [
    "# usuwam wiersze z danymi NaN dla zmiennej: Loan_Amount_Submited\n",
    "df1.dropna(axis=0, subset=[\"Loan_Amount_Submitted\", \"EMI_Loan_Submitted\"], inplace=True)"
   ]
  },
  {
   "cell_type": "code",
   "execution_count": 112,
   "metadata": {},
   "outputs": [],
   "source": [
    "# usuwam wiersze z danymi NaN dla zmiennej: Existing_EMI - niewykorzystywane, używane tylko podczas testów\n",
    "#df1.dropna(axis=0, subset=['Existing_EMI'], inplace=True)"
   ]
  },
  {
   "cell_type": "code",
   "execution_count": 113,
   "metadata": {},
   "outputs": [
    {
     "data": {
      "text/plain": [
       "Gender                        0\n",
       "City                          0\n",
       "Monthly_Income                0\n",
       "Employer_Name                 0\n",
       "Salary_Account                0\n",
       "Mobile_Verified               0\n",
       "Var5                          0\n",
       "Var1                          0\n",
       "Loan_Amount_Submitted         0\n",
       "Loan_Tenure_Submitted         0\n",
       "Interest_Rate             59252\n",
       "Processing_Fee            59558\n",
       "EMI_Loan_Submitted            0\n",
       "Filled_Form                   0\n",
       "Device_Type                   0\n",
       "Var2                          0\n",
       "Source                        0\n",
       "Var4                          0\n",
       "Disbursed                     0\n",
       "estimated_age_in_years       17\n",
       "dtype: int64"
      ]
     },
     "execution_count": 113,
     "metadata": {},
     "output_type": "execute_result"
    }
   ],
   "source": [
    "#Sprawdzenie ile jest danych z brakującymi wartościami\n",
    "df1.isnull().sum()"
   ]
  },
  {
   "cell_type": "code",
   "execution_count": 114,
   "metadata": {},
   "outputs": [
    {
     "name": "stdout",
     "output_type": "stream",
     "text": [
      "<class 'pandas.core.frame.DataFrame'>\n",
      "Index: 86978 entries, ID000002C20 to ID124821V10\n",
      "Data columns (total 20 columns):\n",
      "Gender                    86978 non-null object\n",
      "City                      86978 non-null object\n",
      "Monthly_Income            86978 non-null int64\n",
      "Employer_Name             86978 non-null object\n",
      "Salary_Account            86978 non-null object\n",
      "Mobile_Verified           86978 non-null object\n",
      "Var5                      86978 non-null int64\n",
      "Var1                      86978 non-null object\n",
      "Loan_Amount_Submitted     86978 non-null float64\n",
      "Loan_Tenure_Submitted     86978 non-null float64\n",
      "Interest_Rate             27726 non-null float64\n",
      "Processing_Fee            27420 non-null float64\n",
      "EMI_Loan_Submitted        86978 non-null float64\n",
      "Filled_Form               86978 non-null object\n",
      "Device_Type               86978 non-null object\n",
      "Var2                      86978 non-null object\n",
      "Source                    86978 non-null object\n",
      "Var4                      86978 non-null int64\n",
      "Disbursed                 86978 non-null int64\n",
      "estimated_age_in_years    86961 non-null float64\n",
      "dtypes: float64(6), int64(4), object(10)\n",
      "memory usage: 13.9+ MB\n"
     ]
    }
   ],
   "source": [
    "df1.info()"
   ]
  },
  {
   "cell_type": "markdown",
   "metadata": {},
   "source": [
    "Dla: Gender, Mobile_Verified, Device_Type używam pd.get_dummies (poniżej)"
   ]
  },
  {
   "cell_type": "code",
   "execution_count": 115,
   "metadata": {},
   "outputs": [],
   "source": [
    "# podział danych w kolumnach wg wartości\n",
    "dummies = pd.get_dummies(df1[['Filled_Form', 'Gender', 'Mobile_Verified', 'Device_Type']])"
   ]
  },
  {
   "cell_type": "code",
   "execution_count": 116,
   "metadata": {},
   "outputs": [
    {
     "data": {
      "text/html": [
       "<div>\n",
       "<style scoped>\n",
       "    .dataframe tbody tr th:only-of-type {\n",
       "        vertical-align: middle;\n",
       "    }\n",
       "\n",
       "    .dataframe tbody tr th {\n",
       "        vertical-align: top;\n",
       "    }\n",
       "\n",
       "    .dataframe thead th {\n",
       "        text-align: right;\n",
       "    }\n",
       "</style>\n",
       "<table border=\"1\" class=\"dataframe\">\n",
       "  <thead>\n",
       "    <tr style=\"text-align: right;\">\n",
       "      <th></th>\n",
       "      <th>Filled_Form_N</th>\n",
       "      <th>Filled_Form_Y</th>\n",
       "      <th>Gender_Female</th>\n",
       "      <th>Gender_Male</th>\n",
       "      <th>Mobile_Verified_N</th>\n",
       "      <th>Mobile_Verified_Y</th>\n",
       "      <th>Device_Type_Mobile</th>\n",
       "      <th>Device_Type_Web-browser</th>\n",
       "    </tr>\n",
       "    <tr>\n",
       "      <th>ID</th>\n",
       "      <th></th>\n",
       "      <th></th>\n",
       "      <th></th>\n",
       "      <th></th>\n",
       "      <th></th>\n",
       "      <th></th>\n",
       "      <th></th>\n",
       "      <th></th>\n",
       "    </tr>\n",
       "  </thead>\n",
       "  <tbody>\n",
       "    <tr>\n",
       "      <th>ID000002C20</th>\n",
       "      <td>1</td>\n",
       "      <td>0</td>\n",
       "      <td>1</td>\n",
       "      <td>0</td>\n",
       "      <td>1</td>\n",
       "      <td>0</td>\n",
       "      <td>0</td>\n",
       "      <td>1</td>\n",
       "    </tr>\n",
       "    <tr>\n",
       "      <th>ID000004E40</th>\n",
       "      <td>1</td>\n",
       "      <td>0</td>\n",
       "      <td>0</td>\n",
       "      <td>1</td>\n",
       "      <td>0</td>\n",
       "      <td>1</td>\n",
       "      <td>0</td>\n",
       "      <td>1</td>\n",
       "    </tr>\n",
       "  </tbody>\n",
       "</table>\n",
       "</div>"
      ],
      "text/plain": [
       "             Filled_Form_N  Filled_Form_Y  Gender_Female  Gender_Male  \\\n",
       "ID                                                                      \n",
       "ID000002C20              1              0              1            0   \n",
       "ID000004E40              1              0              0            1   \n",
       "\n",
       "             Mobile_Verified_N  Mobile_Verified_Y  Device_Type_Mobile  \\\n",
       "ID                                                                      \n",
       "ID000002C20                  1                  0                   0   \n",
       "ID000004E40                  0                  1                   0   \n",
       "\n",
       "             Device_Type_Web-browser  \n",
       "ID                                    \n",
       "ID000002C20                        1  \n",
       "ID000004E40                        1  "
      ]
     },
     "execution_count": 116,
     "metadata": {},
     "output_type": "execute_result"
    }
   ],
   "source": [
    "dummies.head(2)"
   ]
  },
  {
   "cell_type": "code",
   "execution_count": 117,
   "metadata": {},
   "outputs": [],
   "source": [
    "# usunięcie części zbędnych kolumn z df1\n",
    "tmp1 = df1.drop(columns=[\"Filled_Form\", \"Gender\", \"Mobile_Verified\", \"Device_Type\"])"
   ]
  },
  {
   "cell_type": "markdown",
   "metadata": {},
   "source": [
    "Dalsze przetwarzanie dla Xf1"
   ]
  },
  {
   "cell_type": "code",
   "execution_count": 118,
   "metadata": {},
   "outputs": [],
   "source": [
    "# połączenie tmp1 z dummies, przy czym jako, że w poszczególnych kolumnach znajdowały się tylko dwie wartości\n",
    "# wybieram jedną z nich: _Y oraz _Mobile\n",
    "Xf1 = pd.concat([tmp1, dummies[['Gender_Male', 'Filled_Form_Y', 'Mobile_Verified_Y', 'Device_Type_Mobile']]], axis = 1)"
   ]
  },
  {
   "cell_type": "code",
   "execution_count": 119,
   "metadata": {
    "scrolled": true
   },
   "outputs": [
    {
     "data": {
      "text/html": [
       "<div>\n",
       "<style scoped>\n",
       "    .dataframe tbody tr th:only-of-type {\n",
       "        vertical-align: middle;\n",
       "    }\n",
       "\n",
       "    .dataframe tbody tr th {\n",
       "        vertical-align: top;\n",
       "    }\n",
       "\n",
       "    .dataframe thead th {\n",
       "        text-align: right;\n",
       "    }\n",
       "</style>\n",
       "<table border=\"1\" class=\"dataframe\">\n",
       "  <thead>\n",
       "    <tr style=\"text-align: right;\">\n",
       "      <th></th>\n",
       "      <th>City</th>\n",
       "      <th>Monthly_Income</th>\n",
       "      <th>Employer_Name</th>\n",
       "      <th>Salary_Account</th>\n",
       "      <th>Var5</th>\n",
       "      <th>Var1</th>\n",
       "      <th>Loan_Amount_Submitted</th>\n",
       "      <th>Loan_Tenure_Submitted</th>\n",
       "      <th>Interest_Rate</th>\n",
       "      <th>Processing_Fee</th>\n",
       "      <th>EMI_Loan_Submitted</th>\n",
       "      <th>Var2</th>\n",
       "      <th>Source</th>\n",
       "      <th>Var4</th>\n",
       "      <th>Disbursed</th>\n",
       "      <th>estimated_age_in_years</th>\n",
       "      <th>Gender_Male</th>\n",
       "      <th>Filled_Form_Y</th>\n",
       "      <th>Mobile_Verified_Y</th>\n",
       "      <th>Device_Type_Mobile</th>\n",
       "    </tr>\n",
       "    <tr>\n",
       "      <th>ID</th>\n",
       "      <th></th>\n",
       "      <th></th>\n",
       "      <th></th>\n",
       "      <th></th>\n",
       "      <th></th>\n",
       "      <th></th>\n",
       "      <th></th>\n",
       "      <th></th>\n",
       "      <th></th>\n",
       "      <th></th>\n",
       "      <th></th>\n",
       "      <th></th>\n",
       "      <th></th>\n",
       "      <th></th>\n",
       "      <th></th>\n",
       "      <th></th>\n",
       "      <th></th>\n",
       "      <th></th>\n",
       "      <th></th>\n",
       "      <th></th>\n",
       "    </tr>\n",
       "  </thead>\n",
       "  <tbody>\n",
       "    <tr>\n",
       "      <th>ID000002C20</th>\n",
       "      <td>Delhi</td>\n",
       "      <td>20000</td>\n",
       "      <td>CYBOSOL</td>\n",
       "      <td>HDFC Bank</td>\n",
       "      <td>0</td>\n",
       "      <td>HBXX</td>\n",
       "      <td>300000.0</td>\n",
       "      <td>5.0</td>\n",
       "      <td>NaN</td>\n",
       "      <td>NaN</td>\n",
       "      <td>0.0</td>\n",
       "      <td>G</td>\n",
       "      <td>S122</td>\n",
       "      <td>1</td>\n",
       "      <td>0</td>\n",
       "      <td>36.0</td>\n",
       "      <td>0</td>\n",
       "      <td>0</td>\n",
       "      <td>0</td>\n",
       "      <td>0</td>\n",
       "    </tr>\n",
       "    <tr>\n",
       "      <th>ID000004E40</th>\n",
       "      <td>Mumbai</td>\n",
       "      <td>35000</td>\n",
       "      <td>TATA CONSULTANCY SERVICES LTD (TCS)</td>\n",
       "      <td>ICICI Bank</td>\n",
       "      <td>13</td>\n",
       "      <td>HBXA</td>\n",
       "      <td>200000.0</td>\n",
       "      <td>2.0</td>\n",
       "      <td>13.25</td>\n",
       "      <td>NaN</td>\n",
       "      <td>6762.9</td>\n",
       "      <td>G</td>\n",
       "      <td>S122</td>\n",
       "      <td>3</td>\n",
       "      <td>0</td>\n",
       "      <td>29.0</td>\n",
       "      <td>1</td>\n",
       "      <td>0</td>\n",
       "      <td>1</td>\n",
       "      <td>0</td>\n",
       "    </tr>\n",
       "    <tr>\n",
       "      <th>ID000007H20</th>\n",
       "      <td>Panchkula</td>\n",
       "      <td>22500</td>\n",
       "      <td>ALCHEMIST HOSPITALS LTD</td>\n",
       "      <td>State Bank of India</td>\n",
       "      <td>0</td>\n",
       "      <td>HBXX</td>\n",
       "      <td>450000.0</td>\n",
       "      <td>4.0</td>\n",
       "      <td>NaN</td>\n",
       "      <td>NaN</td>\n",
       "      <td>0.0</td>\n",
       "      <td>B</td>\n",
       "      <td>S143</td>\n",
       "      <td>1</td>\n",
       "      <td>0</td>\n",
       "      <td>33.0</td>\n",
       "      <td>1</td>\n",
       "      <td>0</td>\n",
       "      <td>1</td>\n",
       "      <td>0</td>\n",
       "    </tr>\n",
       "    <tr>\n",
       "      <th>ID000008I30</th>\n",
       "      <td>Saharsa</td>\n",
       "      <td>35000</td>\n",
       "      <td>BIHAR GOVERNMENT</td>\n",
       "      <td>State Bank of India</td>\n",
       "      <td>10</td>\n",
       "      <td>HBXX</td>\n",
       "      <td>920000.0</td>\n",
       "      <td>5.0</td>\n",
       "      <td>NaN</td>\n",
       "      <td>NaN</td>\n",
       "      <td>0.0</td>\n",
       "      <td>B</td>\n",
       "      <td>S143</td>\n",
       "      <td>3</td>\n",
       "      <td>0</td>\n",
       "      <td>27.0</td>\n",
       "      <td>1</td>\n",
       "      <td>0</td>\n",
       "      <td>1</td>\n",
       "      <td>0</td>\n",
       "    </tr>\n",
       "    <tr>\n",
       "      <th>ID000009J40</th>\n",
       "      <td>Bengaluru</td>\n",
       "      <td>100000</td>\n",
       "      <td>GLOBAL EDGE SOFTWARE</td>\n",
       "      <td>HDFC Bank</td>\n",
       "      <td>17</td>\n",
       "      <td>HBXX</td>\n",
       "      <td>500000.0</td>\n",
       "      <td>2.0</td>\n",
       "      <td>NaN</td>\n",
       "      <td>NaN</td>\n",
       "      <td>25000.0</td>\n",
       "      <td>B</td>\n",
       "      <td>S134</td>\n",
       "      <td>3</td>\n",
       "      <td>0</td>\n",
       "      <td>31.0</td>\n",
       "      <td>1</td>\n",
       "      <td>0</td>\n",
       "      <td>1</td>\n",
       "      <td>0</td>\n",
       "    </tr>\n",
       "  </tbody>\n",
       "</table>\n",
       "</div>"
      ],
      "text/plain": [
       "                  City  Monthly_Income                        Employer_Name  \\\n",
       "ID                                                                            \n",
       "ID000002C20      Delhi           20000                              CYBOSOL   \n",
       "ID000004E40     Mumbai           35000  TATA CONSULTANCY SERVICES LTD (TCS)   \n",
       "ID000007H20  Panchkula           22500              ALCHEMIST HOSPITALS LTD   \n",
       "ID000008I30    Saharsa           35000                     BIHAR GOVERNMENT   \n",
       "ID000009J40  Bengaluru          100000                 GLOBAL EDGE SOFTWARE   \n",
       "\n",
       "                  Salary_Account  Var5  Var1  Loan_Amount_Submitted  \\\n",
       "ID                                                                    \n",
       "ID000002C20            HDFC Bank     0  HBXX               300000.0   \n",
       "ID000004E40           ICICI Bank    13  HBXA               200000.0   \n",
       "ID000007H20  State Bank of India     0  HBXX               450000.0   \n",
       "ID000008I30  State Bank of India    10  HBXX               920000.0   \n",
       "ID000009J40            HDFC Bank    17  HBXX               500000.0   \n",
       "\n",
       "             Loan_Tenure_Submitted  Interest_Rate  Processing_Fee  \\\n",
       "ID                                                                  \n",
       "ID000002C20                    5.0            NaN             NaN   \n",
       "ID000004E40                    2.0          13.25             NaN   \n",
       "ID000007H20                    4.0            NaN             NaN   \n",
       "ID000008I30                    5.0            NaN             NaN   \n",
       "ID000009J40                    2.0            NaN             NaN   \n",
       "\n",
       "             EMI_Loan_Submitted Var2 Source  Var4  Disbursed  \\\n",
       "ID                                                             \n",
       "ID000002C20                 0.0    G   S122     1          0   \n",
       "ID000004E40              6762.9    G   S122     3          0   \n",
       "ID000007H20                 0.0    B   S143     1          0   \n",
       "ID000008I30                 0.0    B   S143     3          0   \n",
       "ID000009J40             25000.0    B   S134     3          0   \n",
       "\n",
       "             estimated_age_in_years  Gender_Male  Filled_Form_Y  \\\n",
       "ID                                                                \n",
       "ID000002C20                    36.0            0              0   \n",
       "ID000004E40                    29.0            1              0   \n",
       "ID000007H20                    33.0            1              0   \n",
       "ID000008I30                    27.0            1              0   \n",
       "ID000009J40                    31.0            1              0   \n",
       "\n",
       "             Mobile_Verified_Y  Device_Type_Mobile  \n",
       "ID                                                  \n",
       "ID000002C20                  0                   0  \n",
       "ID000004E40                  1                   0  \n",
       "ID000007H20                  1                   0  \n",
       "ID000008I30                  1                   0  \n",
       "ID000009J40                  1                   0  "
      ]
     },
     "execution_count": 119,
     "metadata": {},
     "output_type": "execute_result"
    }
   ],
   "source": [
    "Xf1.head()"
   ]
  },
  {
   "cell_type": "markdown",
   "metadata": {},
   "source": [
    "## Wspomniane wyżej etykietowanie wybranych zmiennych (zamiana wartości tekstowych na etykiety numeryczne)"
   ]
  },
  {
   "cell_type": "code",
   "execution_count": 120,
   "metadata": {},
   "outputs": [],
   "source": [
    "# zdefiniowanie listy ze zmiennych do labelizacji\n",
    "Vars_To_Labelize = [\"City\", \"Employer_Name\", \"Salary_Account\", \"Source\", \"Var1\", \"Var2\"]"
   ]
  },
  {
   "cell_type": "code",
   "execution_count": 121,
   "metadata": {},
   "outputs": [],
   "source": [
    "from sklearn import preprocessing\n",
    "\n",
    "def labelize(df, VarsToLabelize):\n",
    "    \n",
    "    \"\"\"\n",
    "    Parametry:\n",
    "        df (Pandas Dataframe): zbiór danych w postaci dataframe,\n",
    "            zawierający m. in. kolumny z danymi do \"etykietowania\"\n",
    "        VarsToLabelize (list): lista zmiennych, którym chcemy przypisać etykiety \n",
    "            numeryczne przy wykorzystaniu LabelEncoder()\n",
    "    Returns (zwraca): \n",
    "        zbiór danych df, zawierający wygenerowane przez LabelEncoder()\n",
    "        etykiety numeryczne dla podanych kolumn w zmiennej VarsToLabelize\n",
    "    w ramce danych: df\n",
    "    \"\"\"\n",
    "    # inicalizacja LabelEncoder'a\n",
    "    lbencdr = preprocessing.LabelEncoder()\n",
    "    labels_str = '_labels'\n",
    "    for labelVar in VarsToLabelize:\n",
    "        lbencdr.fit(df[labelVar])\n",
    "        labelVar_label = labelVar + labels_str\n",
    "        df[labelVar_label] = lbencdr.transform(df[labelVar])\n",
    "    return\n",
    "        "
   ]
  },
  {
   "cell_type": "code",
   "execution_count": 122,
   "metadata": {},
   "outputs": [
    {
     "data": {
      "text/html": [
       "<div>\n",
       "<style scoped>\n",
       "    .dataframe tbody tr th:only-of-type {\n",
       "        vertical-align: middle;\n",
       "    }\n",
       "\n",
       "    .dataframe tbody tr th {\n",
       "        vertical-align: top;\n",
       "    }\n",
       "\n",
       "    .dataframe thead th {\n",
       "        text-align: right;\n",
       "    }\n",
       "</style>\n",
       "<table border=\"1\" class=\"dataframe\">\n",
       "  <thead>\n",
       "    <tr style=\"text-align: right;\">\n",
       "      <th></th>\n",
       "      <th>City</th>\n",
       "      <th>Monthly_Income</th>\n",
       "      <th>Employer_Name</th>\n",
       "      <th>Salary_Account</th>\n",
       "      <th>Var5</th>\n",
       "      <th>Var1</th>\n",
       "      <th>Loan_Amount_Submitted</th>\n",
       "      <th>Loan_Tenure_Submitted</th>\n",
       "      <th>Interest_Rate</th>\n",
       "      <th>Processing_Fee</th>\n",
       "      <th>...</th>\n",
       "      <th>Gender_Male</th>\n",
       "      <th>Filled_Form_Y</th>\n",
       "      <th>Mobile_Verified_Y</th>\n",
       "      <th>Device_Type_Mobile</th>\n",
       "      <th>City_labels</th>\n",
       "      <th>Employer_Name_labels</th>\n",
       "      <th>Salary_Account_labels</th>\n",
       "      <th>Source_labels</th>\n",
       "      <th>Var1_labels</th>\n",
       "      <th>Var2_labels</th>\n",
       "    </tr>\n",
       "    <tr>\n",
       "      <th>ID</th>\n",
       "      <th></th>\n",
       "      <th></th>\n",
       "      <th></th>\n",
       "      <th></th>\n",
       "      <th></th>\n",
       "      <th></th>\n",
       "      <th></th>\n",
       "      <th></th>\n",
       "      <th></th>\n",
       "      <th></th>\n",
       "      <th></th>\n",
       "      <th></th>\n",
       "      <th></th>\n",
       "      <th></th>\n",
       "      <th></th>\n",
       "      <th></th>\n",
       "      <th></th>\n",
       "      <th></th>\n",
       "      <th></th>\n",
       "      <th></th>\n",
       "      <th></th>\n",
       "    </tr>\n",
       "  </thead>\n",
       "  <tbody>\n",
       "    <tr>\n",
       "      <th>ID000002C20</th>\n",
       "      <td>Delhi</td>\n",
       "      <td>20000</td>\n",
       "      <td>CYBOSOL</td>\n",
       "      <td>HDFC Bank</td>\n",
       "      <td>0</td>\n",
       "      <td>HBXX</td>\n",
       "      <td>300000.0</td>\n",
       "      <td>5.0</td>\n",
       "      <td>NaN</td>\n",
       "      <td>NaN</td>\n",
       "      <td>...</td>\n",
       "      <td>0</td>\n",
       "      <td>0</td>\n",
       "      <td>0</td>\n",
       "      <td>0</td>\n",
       "      <td>173</td>\n",
       "      <td>8692</td>\n",
       "      <td>21</td>\n",
       "      <td>0</td>\n",
       "      <td>13</td>\n",
       "      <td>6</td>\n",
       "    </tr>\n",
       "    <tr>\n",
       "      <th>ID000004E40</th>\n",
       "      <td>Mumbai</td>\n",
       "      <td>35000</td>\n",
       "      <td>TATA CONSULTANCY SERVICES LTD (TCS)</td>\n",
       "      <td>ICICI Bank</td>\n",
       "      <td>13</td>\n",
       "      <td>HBXA</td>\n",
       "      <td>200000.0</td>\n",
       "      <td>2.0</td>\n",
       "      <td>13.25</td>\n",
       "      <td>NaN</td>\n",
       "      <td>...</td>\n",
       "      <td>1</td>\n",
       "      <td>0</td>\n",
       "      <td>1</td>\n",
       "      <td>0</td>\n",
       "      <td>447</td>\n",
       "      <td>38691</td>\n",
       "      <td>23</td>\n",
       "      <td>0</td>\n",
       "      <td>8</td>\n",
       "      <td>6</td>\n",
       "    </tr>\n",
       "    <tr>\n",
       "      <th>ID000007H20</th>\n",
       "      <td>Panchkula</td>\n",
       "      <td>22500</td>\n",
       "      <td>ALCHEMIST HOSPITALS LTD</td>\n",
       "      <td>State Bank of India</td>\n",
       "      <td>0</td>\n",
       "      <td>HBXX</td>\n",
       "      <td>450000.0</td>\n",
       "      <td>4.0</td>\n",
       "      <td>NaN</td>\n",
       "      <td>NaN</td>\n",
       "      <td>...</td>\n",
       "      <td>1</td>\n",
       "      <td>0</td>\n",
       "      <td>1</td>\n",
       "      <td>0</td>\n",
       "      <td>498</td>\n",
       "      <td>1834</td>\n",
       "      <td>45</td>\n",
       "      <td>16</td>\n",
       "      <td>13</td>\n",
       "      <td>1</td>\n",
       "    </tr>\n",
       "    <tr>\n",
       "      <th>ID000008I30</th>\n",
       "      <td>Saharsa</td>\n",
       "      <td>35000</td>\n",
       "      <td>BIHAR GOVERNMENT</td>\n",
       "      <td>State Bank of India</td>\n",
       "      <td>10</td>\n",
       "      <td>HBXX</td>\n",
       "      <td>920000.0</td>\n",
       "      <td>5.0</td>\n",
       "      <td>NaN</td>\n",
       "      <td>NaN</td>\n",
       "      <td>...</td>\n",
       "      <td>1</td>\n",
       "      <td>0</td>\n",
       "      <td>1</td>\n",
       "      <td>0</td>\n",
       "      <td>569</td>\n",
       "      <td>5699</td>\n",
       "      <td>45</td>\n",
       "      <td>16</td>\n",
       "      <td>13</td>\n",
       "      <td>1</td>\n",
       "    </tr>\n",
       "    <tr>\n",
       "      <th>ID000009J40</th>\n",
       "      <td>Bengaluru</td>\n",
       "      <td>100000</td>\n",
       "      <td>GLOBAL EDGE SOFTWARE</td>\n",
       "      <td>HDFC Bank</td>\n",
       "      <td>17</td>\n",
       "      <td>HBXX</td>\n",
       "      <td>500000.0</td>\n",
       "      <td>2.0</td>\n",
       "      <td>NaN</td>\n",
       "      <td>NaN</td>\n",
       "      <td>...</td>\n",
       "      <td>1</td>\n",
       "      <td>0</td>\n",
       "      <td>1</td>\n",
       "      <td>0</td>\n",
       "      <td>88</td>\n",
       "      <td>13514</td>\n",
       "      <td>21</td>\n",
       "      <td>8</td>\n",
       "      <td>13</td>\n",
       "      <td>1</td>\n",
       "    </tr>\n",
       "  </tbody>\n",
       "</table>\n",
       "<p>5 rows × 26 columns</p>\n",
       "</div>"
      ],
      "text/plain": [
       "                  City  Monthly_Income                        Employer_Name  \\\n",
       "ID                                                                            \n",
       "ID000002C20      Delhi           20000                              CYBOSOL   \n",
       "ID000004E40     Mumbai           35000  TATA CONSULTANCY SERVICES LTD (TCS)   \n",
       "ID000007H20  Panchkula           22500              ALCHEMIST HOSPITALS LTD   \n",
       "ID000008I30    Saharsa           35000                     BIHAR GOVERNMENT   \n",
       "ID000009J40  Bengaluru          100000                 GLOBAL EDGE SOFTWARE   \n",
       "\n",
       "                  Salary_Account  Var5  Var1  Loan_Amount_Submitted  \\\n",
       "ID                                                                    \n",
       "ID000002C20            HDFC Bank     0  HBXX               300000.0   \n",
       "ID000004E40           ICICI Bank    13  HBXA               200000.0   \n",
       "ID000007H20  State Bank of India     0  HBXX               450000.0   \n",
       "ID000008I30  State Bank of India    10  HBXX               920000.0   \n",
       "ID000009J40            HDFC Bank    17  HBXX               500000.0   \n",
       "\n",
       "             Loan_Tenure_Submitted  Interest_Rate  Processing_Fee  ...  \\\n",
       "ID                                                                 ...   \n",
       "ID000002C20                    5.0            NaN             NaN  ...   \n",
       "ID000004E40                    2.0          13.25             NaN  ...   \n",
       "ID000007H20                    4.0            NaN             NaN  ...   \n",
       "ID000008I30                    5.0            NaN             NaN  ...   \n",
       "ID000009J40                    2.0            NaN             NaN  ...   \n",
       "\n",
       "             Gender_Male Filled_Form_Y Mobile_Verified_Y  Device_Type_Mobile  \\\n",
       "ID                                                                             \n",
       "ID000002C20            0             0                 0                   0   \n",
       "ID000004E40            1             0                 1                   0   \n",
       "ID000007H20            1             0                 1                   0   \n",
       "ID000008I30            1             0                 1                   0   \n",
       "ID000009J40            1             0                 1                   0   \n",
       "\n",
       "             City_labels  Employer_Name_labels  Salary_Account_labels  \\\n",
       "ID                                                                      \n",
       "ID000002C20          173                  8692                     21   \n",
       "ID000004E40          447                 38691                     23   \n",
       "ID000007H20          498                  1834                     45   \n",
       "ID000008I30          569                  5699                     45   \n",
       "ID000009J40           88                 13514                     21   \n",
       "\n",
       "             Source_labels  Var1_labels  Var2_labels  \n",
       "ID                                                    \n",
       "ID000002C20              0           13            6  \n",
       "ID000004E40              0            8            6  \n",
       "ID000007H20             16           13            1  \n",
       "ID000008I30             16           13            1  \n",
       "ID000009J40              8           13            1  \n",
       "\n",
       "[5 rows x 26 columns]"
      ]
     },
     "execution_count": 122,
     "metadata": {},
     "output_type": "execute_result"
    }
   ],
   "source": [
    "labelize(Xf1, Vars_To_Labelize)\n",
    "Xf1.head()"
   ]
  },
  {
   "cell_type": "code",
   "execution_count": 123,
   "metadata": {},
   "outputs": [],
   "source": [
    "#usunięcie zmiennych poddanych labelizacji\n",
    "Xf1 = Xf1.drop(columns=Vars_To_Labelize)"
   ]
  },
  {
   "cell_type": "code",
   "execution_count": 124,
   "metadata": {},
   "outputs": [
    {
     "data": {
      "text/html": [
       "<div>\n",
       "<style scoped>\n",
       "    .dataframe tbody tr th:only-of-type {\n",
       "        vertical-align: middle;\n",
       "    }\n",
       "\n",
       "    .dataframe tbody tr th {\n",
       "        vertical-align: top;\n",
       "    }\n",
       "\n",
       "    .dataframe thead th {\n",
       "        text-align: right;\n",
       "    }\n",
       "</style>\n",
       "<table border=\"1\" class=\"dataframe\">\n",
       "  <thead>\n",
       "    <tr style=\"text-align: right;\">\n",
       "      <th></th>\n",
       "      <th>Monthly_Income</th>\n",
       "      <th>Var5</th>\n",
       "      <th>Loan_Amount_Submitted</th>\n",
       "      <th>Loan_Tenure_Submitted</th>\n",
       "      <th>Interest_Rate</th>\n",
       "      <th>Processing_Fee</th>\n",
       "      <th>EMI_Loan_Submitted</th>\n",
       "      <th>Var4</th>\n",
       "      <th>Disbursed</th>\n",
       "      <th>estimated_age_in_years</th>\n",
       "      <th>Gender_Male</th>\n",
       "      <th>Filled_Form_Y</th>\n",
       "      <th>Mobile_Verified_Y</th>\n",
       "      <th>Device_Type_Mobile</th>\n",
       "      <th>City_labels</th>\n",
       "      <th>Employer_Name_labels</th>\n",
       "      <th>Salary_Account_labels</th>\n",
       "      <th>Source_labels</th>\n",
       "      <th>Var1_labels</th>\n",
       "      <th>Var2_labels</th>\n",
       "    </tr>\n",
       "    <tr>\n",
       "      <th>ID</th>\n",
       "      <th></th>\n",
       "      <th></th>\n",
       "      <th></th>\n",
       "      <th></th>\n",
       "      <th></th>\n",
       "      <th></th>\n",
       "      <th></th>\n",
       "      <th></th>\n",
       "      <th></th>\n",
       "      <th></th>\n",
       "      <th></th>\n",
       "      <th></th>\n",
       "      <th></th>\n",
       "      <th></th>\n",
       "      <th></th>\n",
       "      <th></th>\n",
       "      <th></th>\n",
       "      <th></th>\n",
       "      <th></th>\n",
       "      <th></th>\n",
       "    </tr>\n",
       "  </thead>\n",
       "  <tbody>\n",
       "    <tr>\n",
       "      <th>ID000002C20</th>\n",
       "      <td>20000</td>\n",
       "      <td>0</td>\n",
       "      <td>300000.0</td>\n",
       "      <td>5.0</td>\n",
       "      <td>NaN</td>\n",
       "      <td>NaN</td>\n",
       "      <td>0.0</td>\n",
       "      <td>1</td>\n",
       "      <td>0</td>\n",
       "      <td>36.0</td>\n",
       "      <td>0</td>\n",
       "      <td>0</td>\n",
       "      <td>0</td>\n",
       "      <td>0</td>\n",
       "      <td>173</td>\n",
       "      <td>8692</td>\n",
       "      <td>21</td>\n",
       "      <td>0</td>\n",
       "      <td>13</td>\n",
       "      <td>6</td>\n",
       "    </tr>\n",
       "    <tr>\n",
       "      <th>ID000004E40</th>\n",
       "      <td>35000</td>\n",
       "      <td>13</td>\n",
       "      <td>200000.0</td>\n",
       "      <td>2.0</td>\n",
       "      <td>13.25</td>\n",
       "      <td>NaN</td>\n",
       "      <td>6762.9</td>\n",
       "      <td>3</td>\n",
       "      <td>0</td>\n",
       "      <td>29.0</td>\n",
       "      <td>1</td>\n",
       "      <td>0</td>\n",
       "      <td>1</td>\n",
       "      <td>0</td>\n",
       "      <td>447</td>\n",
       "      <td>38691</td>\n",
       "      <td>23</td>\n",
       "      <td>0</td>\n",
       "      <td>8</td>\n",
       "      <td>6</td>\n",
       "    </tr>\n",
       "    <tr>\n",
       "      <th>ID000007H20</th>\n",
       "      <td>22500</td>\n",
       "      <td>0</td>\n",
       "      <td>450000.0</td>\n",
       "      <td>4.0</td>\n",
       "      <td>NaN</td>\n",
       "      <td>NaN</td>\n",
       "      <td>0.0</td>\n",
       "      <td>1</td>\n",
       "      <td>0</td>\n",
       "      <td>33.0</td>\n",
       "      <td>1</td>\n",
       "      <td>0</td>\n",
       "      <td>1</td>\n",
       "      <td>0</td>\n",
       "      <td>498</td>\n",
       "      <td>1834</td>\n",
       "      <td>45</td>\n",
       "      <td>16</td>\n",
       "      <td>13</td>\n",
       "      <td>1</td>\n",
       "    </tr>\n",
       "    <tr>\n",
       "      <th>ID000008I30</th>\n",
       "      <td>35000</td>\n",
       "      <td>10</td>\n",
       "      <td>920000.0</td>\n",
       "      <td>5.0</td>\n",
       "      <td>NaN</td>\n",
       "      <td>NaN</td>\n",
       "      <td>0.0</td>\n",
       "      <td>3</td>\n",
       "      <td>0</td>\n",
       "      <td>27.0</td>\n",
       "      <td>1</td>\n",
       "      <td>0</td>\n",
       "      <td>1</td>\n",
       "      <td>0</td>\n",
       "      <td>569</td>\n",
       "      <td>5699</td>\n",
       "      <td>45</td>\n",
       "      <td>16</td>\n",
       "      <td>13</td>\n",
       "      <td>1</td>\n",
       "    </tr>\n",
       "    <tr>\n",
       "      <th>ID000009J40</th>\n",
       "      <td>100000</td>\n",
       "      <td>17</td>\n",
       "      <td>500000.0</td>\n",
       "      <td>2.0</td>\n",
       "      <td>NaN</td>\n",
       "      <td>NaN</td>\n",
       "      <td>25000.0</td>\n",
       "      <td>3</td>\n",
       "      <td>0</td>\n",
       "      <td>31.0</td>\n",
       "      <td>1</td>\n",
       "      <td>0</td>\n",
       "      <td>1</td>\n",
       "      <td>0</td>\n",
       "      <td>88</td>\n",
       "      <td>13514</td>\n",
       "      <td>21</td>\n",
       "      <td>8</td>\n",
       "      <td>13</td>\n",
       "      <td>1</td>\n",
       "    </tr>\n",
       "  </tbody>\n",
       "</table>\n",
       "</div>"
      ],
      "text/plain": [
       "             Monthly_Income  Var5  Loan_Amount_Submitted  \\\n",
       "ID                                                         \n",
       "ID000002C20           20000     0               300000.0   \n",
       "ID000004E40           35000    13               200000.0   \n",
       "ID000007H20           22500     0               450000.0   \n",
       "ID000008I30           35000    10               920000.0   \n",
       "ID000009J40          100000    17               500000.0   \n",
       "\n",
       "             Loan_Tenure_Submitted  Interest_Rate  Processing_Fee  \\\n",
       "ID                                                                  \n",
       "ID000002C20                    5.0            NaN             NaN   \n",
       "ID000004E40                    2.0          13.25             NaN   \n",
       "ID000007H20                    4.0            NaN             NaN   \n",
       "ID000008I30                    5.0            NaN             NaN   \n",
       "ID000009J40                    2.0            NaN             NaN   \n",
       "\n",
       "             EMI_Loan_Submitted  Var4  Disbursed  estimated_age_in_years  \\\n",
       "ID                                                                         \n",
       "ID000002C20                 0.0     1          0                    36.0   \n",
       "ID000004E40              6762.9     3          0                    29.0   \n",
       "ID000007H20                 0.0     1          0                    33.0   \n",
       "ID000008I30                 0.0     3          0                    27.0   \n",
       "ID000009J40             25000.0     3          0                    31.0   \n",
       "\n",
       "             Gender_Male  Filled_Form_Y  Mobile_Verified_Y  \\\n",
       "ID                                                           \n",
       "ID000002C20            0              0                  0   \n",
       "ID000004E40            1              0                  1   \n",
       "ID000007H20            1              0                  1   \n",
       "ID000008I30            1              0                  1   \n",
       "ID000009J40            1              0                  1   \n",
       "\n",
       "             Device_Type_Mobile  City_labels  Employer_Name_labels  \\\n",
       "ID                                                                   \n",
       "ID000002C20                   0          173                  8692   \n",
       "ID000004E40                   0          447                 38691   \n",
       "ID000007H20                   0          498                  1834   \n",
       "ID000008I30                   0          569                  5699   \n",
       "ID000009J40                   0           88                 13514   \n",
       "\n",
       "             Salary_Account_labels  Source_labels  Var1_labels  Var2_labels  \n",
       "ID                                                                           \n",
       "ID000002C20                     21              0           13            6  \n",
       "ID000004E40                     23              0            8            6  \n",
       "ID000007H20                     45             16           13            1  \n",
       "ID000008I30                     45             16           13            1  \n",
       "ID000009J40                     21              8           13            1  "
      ]
     },
     "execution_count": 124,
     "metadata": {},
     "output_type": "execute_result"
    }
   ],
   "source": [
    "Xf1.head()"
   ]
  },
  {
   "cell_type": "code",
   "execution_count": 125,
   "metadata": {},
   "outputs": [
    {
     "name": "stdout",
     "output_type": "stream",
     "text": [
      "<class 'pandas.core.frame.DataFrame'>\n",
      "Index: 86978 entries, ID000002C20 to ID124821V10\n",
      "Data columns (total 20 columns):\n",
      "Monthly_Income            86978 non-null int64\n",
      "Var5                      86978 non-null int64\n",
      "Loan_Amount_Submitted     86978 non-null float64\n",
      "Loan_Tenure_Submitted     86978 non-null float64\n",
      "Interest_Rate             27726 non-null float64\n",
      "Processing_Fee            27420 non-null float64\n",
      "EMI_Loan_Submitted        86978 non-null float64\n",
      "Var4                      86978 non-null int64\n",
      "Disbursed                 86978 non-null int64\n",
      "estimated_age_in_years    86961 non-null float64\n",
      "Gender_Male               86978 non-null uint8\n",
      "Filled_Form_Y             86978 non-null uint8\n",
      "Mobile_Verified_Y         86978 non-null uint8\n",
      "Device_Type_Mobile        86978 non-null uint8\n",
      "City_labels               86978 non-null int64\n",
      "Employer_Name_labels      86978 non-null int64\n",
      "Salary_Account_labels     86978 non-null int64\n",
      "Source_labels             86978 non-null int64\n",
      "Var1_labels               86978 non-null int64\n",
      "Var2_labels               86978 non-null int64\n",
      "dtypes: float64(6), int64(10), uint8(4)\n",
      "memory usage: 11.6+ MB\n"
     ]
    }
   ],
   "source": [
    "Xf1.info()"
   ]
  },
  {
   "cell_type": "code",
   "execution_count": 126,
   "metadata": {},
   "outputs": [
    {
     "data": {
      "text/plain": [
       "(86978, 20)"
      ]
     },
     "execution_count": 126,
     "metadata": {},
     "output_type": "execute_result"
    }
   ],
   "source": [
    "Xf1.shape"
   ]
  },
  {
   "cell_type": "code",
   "execution_count": 127,
   "metadata": {},
   "outputs": [
    {
     "data": {
      "text/plain": [
       "Monthly_Income                0\n",
       "Var5                          0\n",
       "Loan_Amount_Submitted         0\n",
       "Loan_Tenure_Submitted         0\n",
       "Interest_Rate             59252\n",
       "Processing_Fee            59558\n",
       "EMI_Loan_Submitted            0\n",
       "Var4                          0\n",
       "Disbursed                     0\n",
       "estimated_age_in_years       17\n",
       "Gender_Male                   0\n",
       "Filled_Form_Y                 0\n",
       "Mobile_Verified_Y             0\n",
       "Device_Type_Mobile            0\n",
       "City_labels                   0\n",
       "Employer_Name_labels          0\n",
       "Salary_Account_labels         0\n",
       "Source_labels                 0\n",
       "Var1_labels                   0\n",
       "Var2_labels                   0\n",
       "dtype: int64"
      ]
     },
     "execution_count": 127,
     "metadata": {},
     "output_type": "execute_result"
    }
   ],
   "source": [
    "#Sprawdzenie ile jest danych z brakującymi wartościami\n",
    "Xf1.isnull().sum()"
   ]
  },
  {
   "cell_type": "code",
   "execution_count": 128,
   "metadata": {},
   "outputs": [],
   "source": [
    "# dodanie wartości średnich do poniższych kolumn zawierających dane NaN\n",
    "Xf1['Interest_Rate'].fillna(Xf1['Interest_Rate'].mean(), inplace=True) # konieczne gdybym chciała brać pod uwagę tę zmienną\n",
    "Xf1['Processing_Fee'].fillna(Xf1['Processing_Fee'].mean(), inplace=True) # konieczne gdybym chciała brać pod uwagę tę zmienną\n",
    "Xf1['estimated_age_in_years'].fillna(Xf1['estimated_age_in_years'].mean(), inplace=True)"
   ]
  },
  {
   "cell_type": "code",
   "execution_count": 129,
   "metadata": {},
   "outputs": [
    {
     "data": {
      "text/plain": [
       "0    85705\n",
       "1     1273\n",
       "Name: Disbursed, dtype: int64"
      ]
     },
     "execution_count": 129,
     "metadata": {},
     "output_type": "execute_result"
    }
   ],
   "source": [
    "# Sprawdzenie jaki jest rozkład wartości zmiennej Disbursed\n",
    "Xf1.Disbursed.value_counts()"
   ]
  },
  {
   "cell_type": "markdown",
   "metadata": {},
   "source": [
    "## Widać, że wartości: 0 jest wielokrotnie wiecej niż 1. Rozkład zmiennej Disbursed nie jest zbalansowany.\n",
    "## W związku z tym w dalszej części po podziale zbioru na część treningową i testową zrównoważę rozkład danych 0 i 1 dla zmiennej Disbursed w zbiorze treningowym: X i y. (Opcjonalnie dostępne będzie również przetwarzanie bez zrównoważenia danych)"
   ]
  },
  {
   "cell_type": "markdown",
   "metadata": {},
   "source": [
    "## Zdefiniowanie postaci zmiennej X i y dla pełnego (pierwotnego) zbioru danych"
   ]
  },
  {
   "cell_type": "code",
   "execution_count": 130,
   "metadata": {},
   "outputs": [],
   "source": [
    "# zdefiniowanie zmiennej y\n",
    "y_a = Xf1.Disbursed"
   ]
  },
  {
   "cell_type": "code",
   "execution_count": 131,
   "metadata": {},
   "outputs": [],
   "source": [
    "#usunięcie zmiennej y z X\n",
    "X_a = Xf1.drop(columns=\"Disbursed\")"
   ]
  },
  {
   "cell_type": "markdown",
   "metadata": {},
   "source": [
    "## Podział na dane trenujące i testowe"
   ]
  },
  {
   "cell_type": "code",
   "execution_count": 132,
   "metadata": {},
   "outputs": [],
   "source": [
    "# załadowanie potrzebnych bibliotek do podziału danych na treningowe i testowe\n",
    "from sklearn.model_selection import GridSearchCV, train_test_split, cross_val_score"
   ]
  },
  {
   "cell_type": "code",
   "execution_count": 133,
   "metadata": {},
   "outputs": [],
   "source": [
    "# podział na dane trenujące i testowe na faktycznym zbiorze danych\n",
    "X_train_a, X_test_a, y_train_a, y_test_a = train_test_split(X_a, y_a, test_size=0.2, random_state=42)"
   ]
  },
  {
   "cell_type": "code",
   "execution_count": 134,
   "metadata": {},
   "outputs": [
    {
     "data": {
      "text/plain": [
       "(69582, 19)"
      ]
     },
     "execution_count": 134,
     "metadata": {},
     "output_type": "execute_result"
    }
   ],
   "source": [
    "X_train_a.shape"
   ]
  },
  {
   "cell_type": "code",
   "execution_count": 135,
   "metadata": {},
   "outputs": [
    {
     "data": {
      "text/plain": [
       "(69582,)"
      ]
     },
     "execution_count": 135,
     "metadata": {},
     "output_type": "execute_result"
    }
   ],
   "source": [
    "y_train_a.shape"
   ]
  },
  {
   "cell_type": "code",
   "execution_count": 136,
   "metadata": {},
   "outputs": [
    {
     "data": {
      "text/html": [
       "<div>\n",
       "<style scoped>\n",
       "    .dataframe tbody tr th:only-of-type {\n",
       "        vertical-align: middle;\n",
       "    }\n",
       "\n",
       "    .dataframe tbody tr th {\n",
       "        vertical-align: top;\n",
       "    }\n",
       "\n",
       "    .dataframe thead th {\n",
       "        text-align: right;\n",
       "    }\n",
       "</style>\n",
       "<table border=\"1\" class=\"dataframe\">\n",
       "  <thead>\n",
       "    <tr style=\"text-align: right;\">\n",
       "      <th></th>\n",
       "      <th>Monthly_Income</th>\n",
       "      <th>Var5</th>\n",
       "      <th>Loan_Amount_Submitted</th>\n",
       "      <th>Loan_Tenure_Submitted</th>\n",
       "      <th>Interest_Rate</th>\n",
       "      <th>Processing_Fee</th>\n",
       "      <th>EMI_Loan_Submitted</th>\n",
       "      <th>Var4</th>\n",
       "      <th>estimated_age_in_years</th>\n",
       "      <th>Gender_Male</th>\n",
       "      <th>Filled_Form_Y</th>\n",
       "      <th>Mobile_Verified_Y</th>\n",
       "      <th>Device_Type_Mobile</th>\n",
       "      <th>City_labels</th>\n",
       "      <th>Employer_Name_labels</th>\n",
       "      <th>Salary_Account_labels</th>\n",
       "      <th>Source_labels</th>\n",
       "      <th>Var1_labels</th>\n",
       "      <th>Var2_labels</th>\n",
       "    </tr>\n",
       "    <tr>\n",
       "      <th>ID</th>\n",
       "      <th></th>\n",
       "      <th></th>\n",
       "      <th></th>\n",
       "      <th></th>\n",
       "      <th></th>\n",
       "      <th></th>\n",
       "      <th></th>\n",
       "      <th></th>\n",
       "      <th></th>\n",
       "      <th></th>\n",
       "      <th></th>\n",
       "      <th></th>\n",
       "      <th></th>\n",
       "      <th></th>\n",
       "      <th></th>\n",
       "      <th></th>\n",
       "      <th></th>\n",
       "      <th></th>\n",
       "      <th></th>\n",
       "    </tr>\n",
       "  </thead>\n",
       "  <tbody>\n",
       "    <tr>\n",
       "      <th>ID065490W00</th>\n",
       "      <td>31000</td>\n",
       "      <td>9</td>\n",
       "      <td>150000.0</td>\n",
       "      <td>2.0</td>\n",
       "      <td>20.000000</td>\n",
       "      <td>1500.000000</td>\n",
       "      <td>7634.37</td>\n",
       "      <td>4</td>\n",
       "      <td>46.0</td>\n",
       "      <td>0</td>\n",
       "      <td>0</td>\n",
       "      <td>1</td>\n",
       "      <td>0</td>\n",
       "      <td>88</td>\n",
       "      <td>170</td>\n",
       "      <td>4</td>\n",
       "      <td>7</td>\n",
       "      <td>10</td>\n",
       "      <td>1</td>\n",
       "    </tr>\n",
       "    <tr>\n",
       "      <th>ID076662O20</th>\n",
       "      <td>18000</td>\n",
       "      <td>1</td>\n",
       "      <td>290000.0</td>\n",
       "      <td>4.0</td>\n",
       "      <td>31.500000</td>\n",
       "      <td>5800.000000</td>\n",
       "      <td>10696.25</td>\n",
       "      <td>5</td>\n",
       "      <td>26.0</td>\n",
       "      <td>0</td>\n",
       "      <td>1</td>\n",
       "      <td>1</td>\n",
       "      <td>1</td>\n",
       "      <td>135</td>\n",
       "      <td>17125</td>\n",
       "      <td>21</td>\n",
       "      <td>26</td>\n",
       "      <td>9</td>\n",
       "      <td>2</td>\n",
       "    </tr>\n",
       "    <tr>\n",
       "      <th>ID032530E00</th>\n",
       "      <td>29500</td>\n",
       "      <td>4</td>\n",
       "      <td>440000.0</td>\n",
       "      <td>5.0</td>\n",
       "      <td>20.000000</td>\n",
       "      <td>4400.000000</td>\n",
       "      <td>11657.31</td>\n",
       "      <td>5</td>\n",
       "      <td>27.0</td>\n",
       "      <td>1</td>\n",
       "      <td>1</td>\n",
       "      <td>1</td>\n",
       "      <td>1</td>\n",
       "      <td>229</td>\n",
       "      <td>9500</td>\n",
       "      <td>35</td>\n",
       "      <td>7</td>\n",
       "      <td>10</td>\n",
       "      <td>2</td>\n",
       "    </tr>\n",
       "    <tr>\n",
       "      <th>ID020123Z30</th>\n",
       "      <td>18000</td>\n",
       "      <td>1</td>\n",
       "      <td>150000.0</td>\n",
       "      <td>2.0</td>\n",
       "      <td>20.000000</td>\n",
       "      <td>1500.000000</td>\n",
       "      <td>7634.37</td>\n",
       "      <td>4</td>\n",
       "      <td>25.0</td>\n",
       "      <td>1</td>\n",
       "      <td>0</td>\n",
       "      <td>1</td>\n",
       "      <td>0</td>\n",
       "      <td>173</td>\n",
       "      <td>16685</td>\n",
       "      <td>0</td>\n",
       "      <td>7</td>\n",
       "      <td>10</td>\n",
       "      <td>1</td>\n",
       "    </tr>\n",
       "    <tr>\n",
       "      <th>ID095006C10</th>\n",
       "      <td>151250</td>\n",
       "      <td>12</td>\n",
       "      <td>1000000.0</td>\n",
       "      <td>5.0</td>\n",
       "      <td>19.197474</td>\n",
       "      <td>5131.150839</td>\n",
       "      <td>7295.00</td>\n",
       "      <td>2</td>\n",
       "      <td>37.0</td>\n",
       "      <td>1</td>\n",
       "      <td>0</td>\n",
       "      <td>1</td>\n",
       "      <td>0</td>\n",
       "      <td>372</td>\n",
       "      <td>3298</td>\n",
       "      <td>14</td>\n",
       "      <td>0</td>\n",
       "      <td>13</td>\n",
       "      <td>6</td>\n",
       "    </tr>\n",
       "  </tbody>\n",
       "</table>\n",
       "</div>"
      ],
      "text/plain": [
       "             Monthly_Income  Var5  Loan_Amount_Submitted  \\\n",
       "ID                                                         \n",
       "ID065490W00           31000     9               150000.0   \n",
       "ID076662O20           18000     1               290000.0   \n",
       "ID032530E00           29500     4               440000.0   \n",
       "ID020123Z30           18000     1               150000.0   \n",
       "ID095006C10          151250    12              1000000.0   \n",
       "\n",
       "             Loan_Tenure_Submitted  Interest_Rate  Processing_Fee  \\\n",
       "ID                                                                  \n",
       "ID065490W00                    2.0      20.000000     1500.000000   \n",
       "ID076662O20                    4.0      31.500000     5800.000000   \n",
       "ID032530E00                    5.0      20.000000     4400.000000   \n",
       "ID020123Z30                    2.0      20.000000     1500.000000   \n",
       "ID095006C10                    5.0      19.197474     5131.150839   \n",
       "\n",
       "             EMI_Loan_Submitted  Var4  estimated_age_in_years  Gender_Male  \\\n",
       "ID                                                                           \n",
       "ID065490W00             7634.37     4                    46.0            0   \n",
       "ID076662O20            10696.25     5                    26.0            0   \n",
       "ID032530E00            11657.31     5                    27.0            1   \n",
       "ID020123Z30             7634.37     4                    25.0            1   \n",
       "ID095006C10             7295.00     2                    37.0            1   \n",
       "\n",
       "             Filled_Form_Y  Mobile_Verified_Y  Device_Type_Mobile  \\\n",
       "ID                                                                  \n",
       "ID065490W00              0                  1                   0   \n",
       "ID076662O20              1                  1                   1   \n",
       "ID032530E00              1                  1                   1   \n",
       "ID020123Z30              0                  1                   0   \n",
       "ID095006C10              0                  1                   0   \n",
       "\n",
       "             City_labels  Employer_Name_labels  Salary_Account_labels  \\\n",
       "ID                                                                      \n",
       "ID065490W00           88                   170                      4   \n",
       "ID076662O20          135                 17125                     21   \n",
       "ID032530E00          229                  9500                     35   \n",
       "ID020123Z30          173                 16685                      0   \n",
       "ID095006C10          372                  3298                     14   \n",
       "\n",
       "             Source_labels  Var1_labels  Var2_labels  \n",
       "ID                                                    \n",
       "ID065490W00              7           10            1  \n",
       "ID076662O20             26            9            2  \n",
       "ID032530E00              7           10            2  \n",
       "ID020123Z30              7           10            1  \n",
       "ID095006C10              0           13            6  "
      ]
     },
     "execution_count": 136,
     "metadata": {},
     "output_type": "execute_result"
    }
   ],
   "source": [
    "X_train_a.head()"
   ]
  },
  {
   "cell_type": "code",
   "execution_count": 137,
   "metadata": {},
   "outputs": [
    {
     "data": {
      "text/plain": [
       "ID\n",
       "ID065490W00    0\n",
       "ID076662O20    0\n",
       "ID032530E00    0\n",
       "ID020123Z30    0\n",
       "ID095006C10    0\n",
       "Name: Disbursed, dtype: int64"
      ]
     },
     "execution_count": 137,
     "metadata": {},
     "output_type": "execute_result"
    }
   ],
   "source": [
    "y_train_a.head()"
   ]
  },
  {
   "cell_type": "markdown",
   "metadata": {},
   "source": [
    "## Przetwarzanie warunkowe w celu zrównoważenia danych w zbiorze treningowym"
   ]
  },
  {
   "cell_type": "code",
   "execution_count": 138,
   "metadata": {},
   "outputs": [],
   "source": [
    "# obliczenia pomocnicze dla metod rownoważaych dane\n",
    "# połączenie danych treningowych X i y w jeden zbiór danych: Z_train\n",
    "# (aby następnie zrównoważyć w nim dane i dopiero wtedy z powrotem podzielić na X_train i y_train)\n",
    "\n",
    "if zrownowaz_dane_train == True:\n",
    "    Z_train = pd.concat([X_train_a, y_train_a], axis=1)\n",
    "    #Zdefiniowanie zmiennych zawierających liczbę 0 i 1 w zmiennej Disbursed dla zbioru Z_train\n",
    "    Disbursed_liczba_wystapien_0, Disbursed_liczba_wystapien_1 = Z_train.Disbursed.value_counts()[0], Z_train.Disbursed.value_counts()[1]\n",
    "    #wyliczenie w przyblizeniu mnoznika = ile razy będę duplikował dane ze zbioru z samymi wartościami \"1\" w zmiennej Disbursed\n",
    "    # oraz reszty => tak by liczba obserwacji z \"1\" w Disbursed * mnożnik + reszta równała się liczbie obserwacji z \"0\" w Disbursed)\n",
    "    mnoznik = int(Disbursed_liczba_wystapien_0/Disbursed_liczba_wystapien_1)\n",
    "    reszta = Disbursed_liczba_wystapien_0-mnoznik*Disbursed_liczba_wystapien_1"
   ]
  },
  {
   "cell_type": "code",
   "execution_count": 139,
   "metadata": {},
   "outputs": [],
   "source": [
    "# Wywoływane przy równoważeniu danych, na roboczo, dla sprawdzenia wyników przetwarzania\n",
    "#Z_train.shape\n",
    "#Z_train.head()"
   ]
  },
  {
   "cell_type": "code",
   "execution_count": 141,
   "metadata": {},
   "outputs": [],
   "source": [
    "# Wywoływane przy równoważeniu danych, na roboczo, dla sprawdzenia wyników przetwarzania\n",
    "#Disbursed_liczba_wystapien_0, Disbursed_liczba_wystapien_1\n",
    "#mnoznik, reszta"
   ]
  },
  {
   "cell_type": "markdown",
   "metadata": {},
   "source": [
    "# Dwa sposoby równoważenia danych w zbiorze trenującym:\n",
    "## wersja 1 - losowanie danych w celu zbalansowania danych testowych (n razy)\n",
    "## wersja 2 - prosta multiplikacja danych z wartością zmiennej Disbursed = 1 (n razy)\n",
    "## Uwaga: Stosujemy alternatywnie wersję 1 albo 2"
   ]
  },
  {
   "cell_type": "code",
   "execution_count": 143,
   "metadata": {},
   "outputs": [],
   "source": [
    "# Wybór wersji równoważenia danych - obecnie na samym początku u góry\n",
    "# wersja1 = True #jak False to wybrana zostanie wersja 2"
   ]
  },
  {
   "cell_type": "markdown",
   "metadata": {},
   "source": [
    "Wersja 1\n",
    "1. Wylosowanie ze zbioru danych zawierajacych 1, liczby obserwacji tylko z wartością \"1\" dla zmiennej Disbursed; losujemy maksymalnie dostępną liczbę obserwacji tyle razy ile wynosi 'mnożnik'\n",
    "2. Zapisanie tych danych do dataframe: Z_Disbursed_1"
   ]
  },
  {
   "cell_type": "markdown",
   "metadata": {},
   "source": [
    "Wersja 2\n",
    "1. Powielenie zbioru z Dsibursed = \"1\" tyle razy by otrzymać zrównoważony zbiór treningowy\n",
    "2. Zapisanie tych danych do dataframe: Z_Disbursed_1"
   ]
  },
  {
   "cell_type": "code",
   "execution_count": 144,
   "metadata": {},
   "outputs": [],
   "source": [
    "if zrownowaz_dane_train == True:\n",
    "    if wersja1:\n",
    "        # tu pierwsze samplowanie\n",
    "        Z_Disbursed_1 = Z_train.sample(n=Disbursed_liczba_wystapien_1, weights='Disbursed', random_state=42)\n",
    "        # tu dodanie samplowania dla liczby obserwacji równej reszta = 414\n",
    "        Zprim = Z_train.sample(n=reszta, weights='Disbursed', random_state=42)\n",
    "        Z_Disbursed_1 = pd.concat([Z_Disbursed_1, Zprim], ignore_index=True)\n",
    "        # poniżej generowanie pozostałej liczby wymaganych obserwacji w pętli\n",
    "        for i in range(0, mnoznik-2):\n",
    "            Zbis = Z_train.sample(n=Disbursed_liczba_wystapien_1, weights='Disbursed', random_state=42)\n",
    "            Z_Disbursed_1 = pd.concat([Z_Disbursed_1, Zbis], ignore_index=True)\n",
    "    else:\n",
    "        # dodanie samplowania dla liczby obserwacji równej reszta = 414; tylko dla reszty losuję\n",
    "        Z_Disbursed_1 = Z_train.sample(n=reszta, weights='Disbursed', random_state=42)\n",
    "        # poniżej generowanie pozostałej liczby wymaganych obserwacji w pętli\n",
    "        Zbis = Z_train.loc[lambda Z_train: Z_train['Disbursed'] == 1]\n",
    "        for i in range(0, mnoznik-1):\n",
    "            Z_Disbursed_1 = pd.concat([Z_Disbursed_1, Zbis], ignore_index=True)\n",
    "            \n",
    "    # Połączenie zbioru z danymi surowymi oraz wygenerowanymi w celu zrównowazenia wyników\n",
    "    Z_train = pd.concat([Z_train, Z_Disbursed_1], ignore_index=True)\n",
    "    \n",
    "    ## Zdefiniowanie finalnej postaci zmiennej X i y dla zbioru trenującego\n",
    "    # zdefiniowanie zmiennej y\n",
    "    y_train = Z_train.Disbursed\n",
    "    #usunięcie zmiennej y z X\n",
    "    X_train = Z_train.drop(columns=\"Disbursed\")\n",
    "    ## Zdefiniowanie finalnej postaci zmiennej X i y dla zbioru testowego\n",
    "else:\n",
    "    # gdy nie równoważymy danych w zbiorze trenującym\n",
    "    X_train, y_train = X_train_a, y_train_a\n",
    "    \n",
    "X_test, y_test = X_test_a, y_test_a"
   ]
  },
  {
   "cell_type": "code",
   "execution_count": 212,
   "metadata": {},
   "outputs": [],
   "source": [
    "# Wywoływane przy równoważeniu danych, na roboczo, dla sprawdzenia wyników przetwarzania\n",
    "#Z_Disbursed_1.shape\n",
    "# Sprawdzenie rozkładu wartości zmiennej Disbursed dla wylosowanych danych\n",
    "#Z_Disbursed_1.Disbursed.value_counts()\n",
    "\n",
    "#Z_Disbursed_1.head()\n",
    "#Z_train.Disbursed.value_counts()"
   ]
  },
  {
   "cell_type": "code",
   "execution_count": 149,
   "metadata": {},
   "outputs": [],
   "source": [
    "# Można uruchomić krokowo gdy jednak nie chcemy równoważyć danych w zbiorze trenującym\n",
    "# X_train, y_train = X_train_a, y_train_a"
   ]
  },
  {
   "cell_type": "markdown",
   "metadata": {},
   "source": [
    "## Sterowanie liczbą zmiennych branych pod uwagę w modelach"
   ]
  },
  {
   "cell_type": "markdown",
   "metadata": {},
   "source": [
    "## Uwaga, liczbą zmiennych sterujemy zarówno dla zbioru X_train jak i X_test"
   ]
  },
  {
   "cell_type": "code",
   "execution_count": 150,
   "metadata": {},
   "outputs": [],
   "source": [
    "# usunięcie I grupy zmiennych (do wyboru)\n",
    "#X_train = X_train.drop(columns=[\"Employer_Name_labels\", \"Salary_Account_labels\"])\n",
    "#X_test = X_test.drop(columns=[\"Employer_Name_labels\", \"Salary_Account_labels\"])"
   ]
  },
  {
   "cell_type": "code",
   "execution_count": 151,
   "metadata": {},
   "outputs": [],
   "source": [
    "# usunięcie II grupy zmiennych (do wyboru)\n",
    "#X_train = X_train.drop(columns=[\"Var4\", \"Var5\", \"Var1_labels\", \"Var2_labels\", \"Source_labels\"])\n",
    "#X_test = X_test.drop(columns=[\"Var4\", \"Var5\", \"Var1_labels\", \"Var2_labels\", \"Source_labels\"])"
   ]
  },
  {
   "cell_type": "code",
   "execution_count": 152,
   "metadata": {},
   "outputs": [],
   "source": [
    "# usunięcie III grupy zmiennych (do wyboru)\n",
    "#X_train = X_train.drop(columns=[\"Interest_Rate\", \"Processing_Fee\", \"City_labels\"])\n",
    "#X_test = X_test.drop(columns=[\"Interest_Rate\", \"Processing_Fee\", \"City_labels\"])"
   ]
  },
  {
   "cell_type": "code",
   "execution_count": 153,
   "metadata": {},
   "outputs": [],
   "source": [
    "# usunięcie zmiennych o zakładanym teoretycznie, niewielkim wpływie na wyniki\n",
    "#X_train = X_train.drop(columns=[\"Gender_Male\", \"Mobile_Verified_Y\", \"Filled_Form_Y\", \"Device_Type_Mobile\", \"estimated_age_in_years\"])\n",
    "#X_test = X_test.drop(columns=[\"Gender_Male\", \"Mobile_Verified_Y\", \"Filled_Form_Y\", \"Device_Type_Mobile\", \"estimated_age_in_years\"])\n",
    "#X_train = X_train.drop(columns=[\"Gender_Male\"])\n",
    "#X_test = X_test.drop(columns=[\"Gender_Male\"])\n",
    "#X_train = X_train.drop(columns=[\"Mobile_Verified_Y\"])\n",
    "#X_test = X_test.drop(columns=[\"Mobile_Verified_Y\"])\n",
    "#X_train = X_train.drop(columns=[\"Filled_Form_Y\"])\n",
    "#X_test = X_test.drop(columns=[\"Filled_Form_Y\"])\n",
    "#X_train = X_train.drop(columns=[\"Device_Type_Mobile\"])\n",
    "#X_test = X_test.drop(columns=[\"Device_Type_Mobile\"])\n",
    "#X_train = X_train.drop(columns=[\"estimated_age_in_years\"])\n",
    "#X_test = X_test.drop(columns=[\"estimated_age_in_years\"])"
   ]
  },
  {
   "cell_type": "code",
   "execution_count": 154,
   "metadata": {},
   "outputs": [],
   "source": [
    "# Testowo, sprawdzenie jak modele zachowują się bez jednej ze zmiennych podstawowych, \n",
    "# które podchodząc merytorycznie do tematu, powinny mieć znaczący wpływ na wynik.\n",
    "#X_train = X_train.drop(columns=[\"Monthly_Income\"])\n",
    "#X_test = X_test.drop(columns=[\"Monthly_Income\"])\n",
    "#X_train = X_train.drop(columns=[\"Loan_Amount_Submitted\"])\n",
    "#X_test = X_test.drop(columns=[\"Loan_Amount_Submitted\"])\n",
    "#X_train = X_train.drop(columns=[\"Loan_Tenure_Submitted\"])\n",
    "#X_test = X_test.drop(columns=[\"Loan_Tenure_Submitted\"])\n",
    "#X_train = X_train.drop(columns=[\"EMI_Loan_Submitted\"])\n",
    "#X_test = X_test.drop(columns=[\"EMI_Loan_Submitted\"])"
   ]
  },
  {
   "cell_type": "code",
   "execution_count": 155,
   "metadata": {},
   "outputs": [
    {
     "data": {
      "text/html": [
       "<div>\n",
       "<style scoped>\n",
       "    .dataframe tbody tr th:only-of-type {\n",
       "        vertical-align: middle;\n",
       "    }\n",
       "\n",
       "    .dataframe tbody tr th {\n",
       "        vertical-align: top;\n",
       "    }\n",
       "\n",
       "    .dataframe thead th {\n",
       "        text-align: right;\n",
       "    }\n",
       "</style>\n",
       "<table border=\"1\" class=\"dataframe\">\n",
       "  <thead>\n",
       "    <tr style=\"text-align: right;\">\n",
       "      <th></th>\n",
       "      <th>Monthly_Income</th>\n",
       "      <th>Var5</th>\n",
       "      <th>Loan_Amount_Submitted</th>\n",
       "      <th>Loan_Tenure_Submitted</th>\n",
       "      <th>Interest_Rate</th>\n",
       "      <th>Processing_Fee</th>\n",
       "      <th>EMI_Loan_Submitted</th>\n",
       "      <th>Var4</th>\n",
       "      <th>estimated_age_in_years</th>\n",
       "      <th>Gender_Male</th>\n",
       "      <th>Filled_Form_Y</th>\n",
       "      <th>Mobile_Verified_Y</th>\n",
       "      <th>Device_Type_Mobile</th>\n",
       "      <th>City_labels</th>\n",
       "      <th>Employer_Name_labels</th>\n",
       "      <th>Salary_Account_labels</th>\n",
       "      <th>Source_labels</th>\n",
       "      <th>Var1_labels</th>\n",
       "      <th>Var2_labels</th>\n",
       "    </tr>\n",
       "  </thead>\n",
       "  <tbody>\n",
       "    <tr>\n",
       "      <th>0</th>\n",
       "      <td>31000</td>\n",
       "      <td>9</td>\n",
       "      <td>150000.0</td>\n",
       "      <td>2.0</td>\n",
       "      <td>20.000000</td>\n",
       "      <td>1500.000000</td>\n",
       "      <td>7634.37</td>\n",
       "      <td>4</td>\n",
       "      <td>46.0</td>\n",
       "      <td>0</td>\n",
       "      <td>0</td>\n",
       "      <td>1</td>\n",
       "      <td>0</td>\n",
       "      <td>88</td>\n",
       "      <td>170</td>\n",
       "      <td>4</td>\n",
       "      <td>7</td>\n",
       "      <td>10</td>\n",
       "      <td>1</td>\n",
       "    </tr>\n",
       "    <tr>\n",
       "      <th>1</th>\n",
       "      <td>18000</td>\n",
       "      <td>1</td>\n",
       "      <td>290000.0</td>\n",
       "      <td>4.0</td>\n",
       "      <td>31.500000</td>\n",
       "      <td>5800.000000</td>\n",
       "      <td>10696.25</td>\n",
       "      <td>5</td>\n",
       "      <td>26.0</td>\n",
       "      <td>0</td>\n",
       "      <td>1</td>\n",
       "      <td>1</td>\n",
       "      <td>1</td>\n",
       "      <td>135</td>\n",
       "      <td>17125</td>\n",
       "      <td>21</td>\n",
       "      <td>26</td>\n",
       "      <td>9</td>\n",
       "      <td>2</td>\n",
       "    </tr>\n",
       "    <tr>\n",
       "      <th>2</th>\n",
       "      <td>29500</td>\n",
       "      <td>4</td>\n",
       "      <td>440000.0</td>\n",
       "      <td>5.0</td>\n",
       "      <td>20.000000</td>\n",
       "      <td>4400.000000</td>\n",
       "      <td>11657.31</td>\n",
       "      <td>5</td>\n",
       "      <td>27.0</td>\n",
       "      <td>1</td>\n",
       "      <td>1</td>\n",
       "      <td>1</td>\n",
       "      <td>1</td>\n",
       "      <td>229</td>\n",
       "      <td>9500</td>\n",
       "      <td>35</td>\n",
       "      <td>7</td>\n",
       "      <td>10</td>\n",
       "      <td>2</td>\n",
       "    </tr>\n",
       "    <tr>\n",
       "      <th>3</th>\n",
       "      <td>18000</td>\n",
       "      <td>1</td>\n",
       "      <td>150000.0</td>\n",
       "      <td>2.0</td>\n",
       "      <td>20.000000</td>\n",
       "      <td>1500.000000</td>\n",
       "      <td>7634.37</td>\n",
       "      <td>4</td>\n",
       "      <td>25.0</td>\n",
       "      <td>1</td>\n",
       "      <td>0</td>\n",
       "      <td>1</td>\n",
       "      <td>0</td>\n",
       "      <td>173</td>\n",
       "      <td>16685</td>\n",
       "      <td>0</td>\n",
       "      <td>7</td>\n",
       "      <td>10</td>\n",
       "      <td>1</td>\n",
       "    </tr>\n",
       "    <tr>\n",
       "      <th>4</th>\n",
       "      <td>151250</td>\n",
       "      <td>12</td>\n",
       "      <td>1000000.0</td>\n",
       "      <td>5.0</td>\n",
       "      <td>19.197474</td>\n",
       "      <td>5131.150839</td>\n",
       "      <td>7295.00</td>\n",
       "      <td>2</td>\n",
       "      <td>37.0</td>\n",
       "      <td>1</td>\n",
       "      <td>0</td>\n",
       "      <td>1</td>\n",
       "      <td>0</td>\n",
       "      <td>372</td>\n",
       "      <td>3298</td>\n",
       "      <td>14</td>\n",
       "      <td>0</td>\n",
       "      <td>13</td>\n",
       "      <td>6</td>\n",
       "    </tr>\n",
       "  </tbody>\n",
       "</table>\n",
       "</div>"
      ],
      "text/plain": [
       "   Monthly_Income  Var5  Loan_Amount_Submitted  Loan_Tenure_Submitted  \\\n",
       "0           31000     9               150000.0                    2.0   \n",
       "1           18000     1               290000.0                    4.0   \n",
       "2           29500     4               440000.0                    5.0   \n",
       "3           18000     1               150000.0                    2.0   \n",
       "4          151250    12              1000000.0                    5.0   \n",
       "\n",
       "   Interest_Rate  Processing_Fee  EMI_Loan_Submitted  Var4  \\\n",
       "0      20.000000     1500.000000             7634.37     4   \n",
       "1      31.500000     5800.000000            10696.25     5   \n",
       "2      20.000000     4400.000000            11657.31     5   \n",
       "3      20.000000     1500.000000             7634.37     4   \n",
       "4      19.197474     5131.150839             7295.00     2   \n",
       "\n",
       "   estimated_age_in_years  Gender_Male  Filled_Form_Y  Mobile_Verified_Y  \\\n",
       "0                    46.0            0              0                  1   \n",
       "1                    26.0            0              1                  1   \n",
       "2                    27.0            1              1                  1   \n",
       "3                    25.0            1              0                  1   \n",
       "4                    37.0            1              0                  1   \n",
       "\n",
       "   Device_Type_Mobile  City_labels  Employer_Name_labels  \\\n",
       "0                   0           88                   170   \n",
       "1                   1          135                 17125   \n",
       "2                   1          229                  9500   \n",
       "3                   0          173                 16685   \n",
       "4                   0          372                  3298   \n",
       "\n",
       "   Salary_Account_labels  Source_labels  Var1_labels  Var2_labels  \n",
       "0                      4              7           10            1  \n",
       "1                     21             26            9            2  \n",
       "2                     35              7           10            2  \n",
       "3                      0              7           10            1  \n",
       "4                     14              0           13            6  "
      ]
     },
     "execution_count": 155,
     "metadata": {},
     "output_type": "execute_result"
    }
   ],
   "source": [
    "X_train.head()"
   ]
  },
  {
   "cell_type": "code",
   "execution_count": 156,
   "metadata": {},
   "outputs": [
    {
     "data": {
      "text/html": [
       "<div>\n",
       "<style scoped>\n",
       "    .dataframe tbody tr th:only-of-type {\n",
       "        vertical-align: middle;\n",
       "    }\n",
       "\n",
       "    .dataframe tbody tr th {\n",
       "        vertical-align: top;\n",
       "    }\n",
       "\n",
       "    .dataframe thead th {\n",
       "        text-align: right;\n",
       "    }\n",
       "</style>\n",
       "<table border=\"1\" class=\"dataframe\">\n",
       "  <thead>\n",
       "    <tr style=\"text-align: right;\">\n",
       "      <th></th>\n",
       "      <th>Monthly_Income</th>\n",
       "      <th>Var5</th>\n",
       "      <th>Loan_Amount_Submitted</th>\n",
       "      <th>Loan_Tenure_Submitted</th>\n",
       "      <th>Interest_Rate</th>\n",
       "      <th>Processing_Fee</th>\n",
       "      <th>EMI_Loan_Submitted</th>\n",
       "      <th>Var4</th>\n",
       "      <th>estimated_age_in_years</th>\n",
       "      <th>Gender_Male</th>\n",
       "      <th>Filled_Form_Y</th>\n",
       "      <th>Mobile_Verified_Y</th>\n",
       "      <th>Device_Type_Mobile</th>\n",
       "      <th>City_labels</th>\n",
       "      <th>Employer_Name_labels</th>\n",
       "      <th>Salary_Account_labels</th>\n",
       "      <th>Source_labels</th>\n",
       "      <th>Var1_labels</th>\n",
       "      <th>Var2_labels</th>\n",
       "    </tr>\n",
       "    <tr>\n",
       "      <th>ID</th>\n",
       "      <th></th>\n",
       "      <th></th>\n",
       "      <th></th>\n",
       "      <th></th>\n",
       "      <th></th>\n",
       "      <th></th>\n",
       "      <th></th>\n",
       "      <th></th>\n",
       "      <th></th>\n",
       "      <th></th>\n",
       "      <th></th>\n",
       "      <th></th>\n",
       "      <th></th>\n",
       "      <th></th>\n",
       "      <th></th>\n",
       "      <th></th>\n",
       "      <th></th>\n",
       "      <th></th>\n",
       "      <th></th>\n",
       "    </tr>\n",
       "  </thead>\n",
       "  <tbody>\n",
       "    <tr>\n",
       "      <th>ID004662I20</th>\n",
       "      <td>20900</td>\n",
       "      <td>3</td>\n",
       "      <td>300000.0</td>\n",
       "      <td>5.0</td>\n",
       "      <td>19.197474</td>\n",
       "      <td>5131.150839</td>\n",
       "      <td>0.0</td>\n",
       "      <td>3</td>\n",
       "      <td>27.0</td>\n",
       "      <td>0</td>\n",
       "      <td>0</td>\n",
       "      <td>1</td>\n",
       "      <td>1</td>\n",
       "      <td>131</td>\n",
       "      <td>27509</td>\n",
       "      <td>23</td>\n",
       "      <td>7</td>\n",
       "      <td>13</td>\n",
       "      <td>2</td>\n",
       "    </tr>\n",
       "    <tr>\n",
       "      <th>ID101036A10</th>\n",
       "      <td>12500</td>\n",
       "      <td>0</td>\n",
       "      <td>100000.0</td>\n",
       "      <td>3.0</td>\n",
       "      <td>19.197474</td>\n",
       "      <td>5131.150839</td>\n",
       "      <td>0.0</td>\n",
       "      <td>1</td>\n",
       "      <td>25.0</td>\n",
       "      <td>0</td>\n",
       "      <td>0</td>\n",
       "      <td>0</td>\n",
       "      <td>0</td>\n",
       "      <td>583</td>\n",
       "      <td>146</td>\n",
       "      <td>4</td>\n",
       "      <td>0</td>\n",
       "      <td>13</td>\n",
       "      <td>6</td>\n",
       "    </tr>\n",
       "    <tr>\n",
       "      <th>ID070815R00</th>\n",
       "      <td>20000</td>\n",
       "      <td>0</td>\n",
       "      <td>200000.0</td>\n",
       "      <td>2.0</td>\n",
       "      <td>19.197474</td>\n",
       "      <td>5131.150839</td>\n",
       "      <td>10000.0</td>\n",
       "      <td>1</td>\n",
       "      <td>25.0</td>\n",
       "      <td>0</td>\n",
       "      <td>0</td>\n",
       "      <td>0</td>\n",
       "      <td>0</td>\n",
       "      <td>447</td>\n",
       "      <td>23142</td>\n",
       "      <td>21</td>\n",
       "      <td>26</td>\n",
       "      <td>13</td>\n",
       "      <td>1</td>\n",
       "    </tr>\n",
       "    <tr>\n",
       "      <th>ID096153F30</th>\n",
       "      <td>25000</td>\n",
       "      <td>8</td>\n",
       "      <td>300000.0</td>\n",
       "      <td>4.0</td>\n",
       "      <td>19.750000</td>\n",
       "      <td>6000.000000</td>\n",
       "      <td>9089.2</td>\n",
       "      <td>3</td>\n",
       "      <td>25.0</td>\n",
       "      <td>1</td>\n",
       "      <td>0</td>\n",
       "      <td>1</td>\n",
       "      <td>0</td>\n",
       "      <td>447</td>\n",
       "      <td>23949</td>\n",
       "      <td>23</td>\n",
       "      <td>0</td>\n",
       "      <td>18</td>\n",
       "      <td>6</td>\n",
       "    </tr>\n",
       "    <tr>\n",
       "      <th>ID025986M10</th>\n",
       "      <td>83500</td>\n",
       "      <td>15</td>\n",
       "      <td>200000.0</td>\n",
       "      <td>2.0</td>\n",
       "      <td>19.197474</td>\n",
       "      <td>5131.150839</td>\n",
       "      <td>29200.0</td>\n",
       "      <td>3</td>\n",
       "      <td>33.0</td>\n",
       "      <td>0</td>\n",
       "      <td>0</td>\n",
       "      <td>1</td>\n",
       "      <td>0</td>\n",
       "      <td>88</td>\n",
       "      <td>19961</td>\n",
       "      <td>21</td>\n",
       "      <td>7</td>\n",
       "      <td>13</td>\n",
       "      <td>1</td>\n",
       "    </tr>\n",
       "  </tbody>\n",
       "</table>\n",
       "</div>"
      ],
      "text/plain": [
       "             Monthly_Income  Var5  Loan_Amount_Submitted  \\\n",
       "ID                                                         \n",
       "ID004662I20           20900     3               300000.0   \n",
       "ID101036A10           12500     0               100000.0   \n",
       "ID070815R00           20000     0               200000.0   \n",
       "ID096153F30           25000     8               300000.0   \n",
       "ID025986M10           83500    15               200000.0   \n",
       "\n",
       "             Loan_Tenure_Submitted  Interest_Rate  Processing_Fee  \\\n",
       "ID                                                                  \n",
       "ID004662I20                    5.0      19.197474     5131.150839   \n",
       "ID101036A10                    3.0      19.197474     5131.150839   \n",
       "ID070815R00                    2.0      19.197474     5131.150839   \n",
       "ID096153F30                    4.0      19.750000     6000.000000   \n",
       "ID025986M10                    2.0      19.197474     5131.150839   \n",
       "\n",
       "             EMI_Loan_Submitted  Var4  estimated_age_in_years  Gender_Male  \\\n",
       "ID                                                                           \n",
       "ID004662I20                 0.0     3                    27.0            0   \n",
       "ID101036A10                 0.0     1                    25.0            0   \n",
       "ID070815R00             10000.0     1                    25.0            0   \n",
       "ID096153F30              9089.2     3                    25.0            1   \n",
       "ID025986M10             29200.0     3                    33.0            0   \n",
       "\n",
       "             Filled_Form_Y  Mobile_Verified_Y  Device_Type_Mobile  \\\n",
       "ID                                                                  \n",
       "ID004662I20              0                  1                   1   \n",
       "ID101036A10              0                  0                   0   \n",
       "ID070815R00              0                  0                   0   \n",
       "ID096153F30              0                  1                   0   \n",
       "ID025986M10              0                  1                   0   \n",
       "\n",
       "             City_labels  Employer_Name_labels  Salary_Account_labels  \\\n",
       "ID                                                                      \n",
       "ID004662I20          131                 27509                     23   \n",
       "ID101036A10          583                   146                      4   \n",
       "ID070815R00          447                 23142                     21   \n",
       "ID096153F30          447                 23949                     23   \n",
       "ID025986M10           88                 19961                     21   \n",
       "\n",
       "             Source_labels  Var1_labels  Var2_labels  \n",
       "ID                                                    \n",
       "ID004662I20              7           13            2  \n",
       "ID101036A10              0           13            6  \n",
       "ID070815R00             26           13            1  \n",
       "ID096153F30              0           18            6  \n",
       "ID025986M10              7           13            1  "
      ]
     },
     "execution_count": 156,
     "metadata": {},
     "output_type": "execute_result"
    }
   ],
   "source": [
    "X_test.head()"
   ]
  },
  {
   "cell_type": "markdown",
   "metadata": {},
   "source": [
    "## Załadowanie potrzebnych bibliotek ML"
   ]
  },
  {
   "cell_type": "code",
   "execution_count": 157,
   "metadata": {},
   "outputs": [],
   "source": [
    "from sklearn.metrics import precision_score, recall_score, f1_score, classification_report\n",
    "from sklearn.svm import SVC\n",
    "import matplotlib.pyplot as plt\n",
    "from sklearn.pipeline import Pipeline\n",
    "from sklearn.preprocessing import MinMaxScaler, StandardScaler\n",
    "from sklearn.linear_model import LogisticRegression\n",
    "from sklearn.tree import DecisionTreeClassifier\n",
    "from sklearn.naive_bayes import MultinomialNB\n",
    "from sklearn.preprocessing import MaxAbsScaler\n",
    "from sklearn.feature_extraction.text import CountVectorizer\n",
    "import pprint\n",
    "import scipy\n",
    "from sklearn.model_selection import GridSearchCV, train_test_split, cross_val_score\n",
    "from sklearn.metrics import accuracy_score, roc_auc_score\n",
    "from sklearn.ensemble import RandomForestClassifier\n",
    "from sklearn.ensemble import BaggingClassifier\n",
    "from sklearn.metrics import confusion_matrix\n",
    "from sklearn.metrics import roc_curve, auc, recall_score, precision_score"
   ]
  },
  {
   "cell_type": "markdown",
   "metadata": {},
   "source": [
    "## Dalsze przetwarzanie po finalnym podziale i wyborze danych"
   ]
  },
  {
   "cell_type": "code",
   "execution_count": 158,
   "metadata": {},
   "outputs": [],
   "source": [
    "# podział na dane trenujące i testowe\n",
    "#X_train, X_test, y_train, y_test = train_test_split(X, y, test_size=0.2, random_state=42)"
   ]
  },
  {
   "cell_type": "code",
   "execution_count": 159,
   "metadata": {},
   "outputs": [
    {
     "data": {
      "text/markdown": [
       "**bold**"
      ],
      "text/plain": [
       "<IPython.core.display.Markdown object>"
      ]
     },
     "metadata": {},
     "output_type": "display_data"
    }
   ],
   "source": [
    "# Dodanie możliwości wyświetlania boldem w Pythonie-Jupyterze\n",
    "from IPython.display import Markdown, display\n",
    "def printmd(string):\n",
    "    display(Markdown(string))\n",
    "printmd(\"**bold**\")"
   ]
  },
  {
   "cell_type": "markdown",
   "metadata": {},
   "source": [
    "Sprawdzenie kształtów zbiorów train i test"
   ]
  },
  {
   "cell_type": "code",
   "execution_count": 160,
   "metadata": {},
   "outputs": [
    {
     "data": {
      "text/plain": [
       "(137122, 19)"
      ]
     },
     "execution_count": 160,
     "metadata": {},
     "output_type": "execute_result"
    }
   ],
   "source": [
    "X_train.shape"
   ]
  },
  {
   "cell_type": "code",
   "execution_count": 161,
   "metadata": {},
   "outputs": [
    {
     "data": {
      "text/plain": [
       "(137122,)"
      ]
     },
     "execution_count": 161,
     "metadata": {},
     "output_type": "execute_result"
    }
   ],
   "source": [
    "y_train.shape"
   ]
  },
  {
   "cell_type": "code",
   "execution_count": 162,
   "metadata": {},
   "outputs": [
    {
     "data": {
      "text/plain": [
       "(17396, 19)"
      ]
     },
     "execution_count": 162,
     "metadata": {},
     "output_type": "execute_result"
    }
   ],
   "source": [
    "X_test.shape"
   ]
  },
  {
   "cell_type": "code",
   "execution_count": 163,
   "metadata": {},
   "outputs": [
    {
     "data": {
      "text/plain": [
       "(17396,)"
      ]
     },
     "execution_count": 163,
     "metadata": {},
     "output_type": "execute_result"
    }
   ],
   "source": [
    "y_test.shape"
   ]
  },
  {
   "cell_type": "code",
   "execution_count": 164,
   "metadata": {},
   "outputs": [
    {
     "data": {
      "text/plain": [
       "1    68561\n",
       "0    68561\n",
       "Name: Disbursed, dtype: int64"
      ]
     },
     "execution_count": 164,
     "metadata": {},
     "output_type": "execute_result"
    }
   ],
   "source": [
    "# spojrzenie na rozkład 0 i 1 dla y_train\n",
    "y_train.value_counts()"
   ]
  },
  {
   "cell_type": "code",
   "execution_count": 165,
   "metadata": {},
   "outputs": [
    {
     "data": {
      "text/plain": [
       "0    17144\n",
       "1      252\n",
       "Name: Disbursed, dtype: int64"
      ]
     },
     "execution_count": 165,
     "metadata": {},
     "output_type": "execute_result"
    }
   ],
   "source": [
    "# spojrzenie na rozkład 0 i 1 dla y_test\n",
    "y_test.value_counts()"
   ]
  },
  {
   "cell_type": "code",
   "execution_count": 166,
   "metadata": {},
   "outputs": [],
   "source": [
    "# ograniczenie informacji typu warning podczas testowania modeli\n",
    "import warnings\n",
    "from sklearn.exceptions import DataConversionWarning\n",
    "warnings.filterwarnings(action='ignore', category=DataConversionWarning)\n",
    "warnings.filterwarnings(action='ignore', category=DeprecationWarning)\n",
    "warnings.filterwarnings(action='ignore', category=FutureWarning)"
   ]
  },
  {
   "cell_type": "code",
   "execution_count": 167,
   "metadata": {},
   "outputs": [],
   "source": [
    "#definicje zmiennych, modeli oraz zakresu parametrów modeli, które będziemy tunować\n",
    "\n",
    "names = np.array([\"Naiwny Bayes\", \"Drzewo decyzyjne\", \"Regresja logistyczna_MaxAbs\",\n",
    "                  \"Regresja logistyczna_StandardScaler\",  \"SVM_MaxAbs\", \"SVM_StandardScaler\",\n",
    "                 \"BaggingClassifier_tree\", \"BaggingClassifier_Logistic\", \"RandomForest\",\n",
    "                  \"bzprmRandomForest\"])\n",
    "\n",
    "models = [[(\"model\", MultinomialNB())],\n",
    "         [(\"model\", DecisionTreeClassifier())],\n",
    "         [(\"scaler\", MaxAbsScaler()), (\"model\", LogisticRegression())],\n",
    "          [(\"scaler\", StandardScaler()), (\"model\", LogisticRegression())],\n",
    "         [(\"scaler\", MaxAbsScaler()),(\"model\", SVC())],\n",
    "          [(\"scaler\", StandardScaler()),(\"model\", SVC())],\n",
    "         [(\"model\", BaggingClassifier(base_estimator=DecisionTreeClassifier()))],\n",
    "         [(\"model\", BaggingClassifier(base_estimator=LogisticRegression()))],\n",
    "         [(\"model\", RandomForestClassifier())],\n",
    "          [(\"model\", RandomForestClassifier(n_estimators=180, min_samples_leaf=3,\n",
    "                                            max_features=0.5, n_jobs=-1))]\n",
    "         ]\n",
    "\n",
    "param_grids = [{\"model__alpha\": [0.1, 1, 10], \"model__fit_prior\": [False, True]},\n",
    "               {\"model__criterion\": [\"gini\", \"entropy\"],\n",
    "                \"model__min_samples_split\": [2, 10, 100], \"model__max_depth\": [None, 2, 10, 100]}, \n",
    "               {\"model__penalty\": [\"l1\", \"l2\"], \"model__C\": [0.001, 0.1, 1, 10, 100]},\n",
    "               {\"model__penalty\": [\"l1\", \"l2\"], \"model__C\": [0.001, 0.1, 1, 10, 100]},\n",
    "              [{\"model__kernel\": [\"rbf\"],},\n",
    "              {\"model__kernel\": [\"poly\"], \"model__degree\": [1, 2, 3, 4]},\n",
    "              {\"model__kernel\": [\"linear\",\"sigmoid\"]}],\n",
    "               [{\"model__kernel\": [\"rbf\"],},\n",
    "              {\"model__kernel\": [\"poly\"], \"model__degree\": [1, 2, 3, 4]},\n",
    "              {\"model__kernel\": [\"linear\",\"sigmoid\"]}],\n",
    "               {\"model__n_estimators\" : [2, 5, 200], \"model__max_features\": [0.5, 0.8, 0.9, 1.0]},\n",
    "               {\"model__n_estimators\" : [2, 5, 200], \"model__max_features\": [0.5, 0.8, 0.9, 1.0]},\n",
    "               {\"model__n_estimators\" : [2, 5, 200], \"model__class_weight\": [\"balanced_subsample\", \"balanced\"]},\n",
    "               {}\n",
    "              ]\n",
    "\n",
    "\n",
    "# tutaj definiuję różne zakresy modeli, które będę testował\n",
    "#uses = np.array([True, True, True, True, True, True, True, True, True, True]) # odpada, z uwagi na czas wykonywania\n",
    "#uses = np.array([True, True, True, True, False, False, True, True, True, True]) # wszystko co puszczałem do wyboru najlepszych modeli\n",
    "#uses = np.array([True, False, False, False, False, False, False, False, False, False])\n",
    "#uses = np.array([False, False, False, False, True, False, False, False, False, False])\n",
    "#uses = np.array([False, False, False, False, False, True, False, False, False, False])\n",
    "#uses = np.array([False, False, False, False, False, False, False, False, False, True])\n",
    "uses = np.array([False, True, False, False, False, False, True, False, True, True]) # modele w miarę szybkie, które sobie w róznym stopniu radziły"
   ]
  },
  {
   "cell_type": "code",
   "execution_count": 168,
   "metadata": {
    "scrolled": false
   },
   "outputs": [
    {
     "data": {
      "text/markdown": [
       "**Tunuje model: Drzewo decyzyjne**"
      ],
      "text/plain": [
       "<IPython.core.display.Markdown object>"
      ]
     },
     "metadata": {},
     "output_type": "display_data"
    },
    {
     "name": "stdout",
     "output_type": "stream",
     "text": [
      "Zastosowane parametry:\n",
      "\t ('model__criterion', 'gini')\n",
      "\t ('model__max_depth', None)\n",
      "\t ('model__min_samples_split', 2)\n",
      "Wyniki: \n",
      "\t mean_test_score: 0.9898,               std_test_score: 0.0003,               \n",
      "\t mean_fit_time: 2.9503,               mean_score_time: 0.0693\n",
      "\n",
      "Zastosowane parametry:\n",
      "\t ('model__criterion', 'gini')\n",
      "\t ('model__max_depth', None)\n",
      "\t ('model__min_samples_split', 10)\n",
      "Wyniki: \n",
      "\t mean_test_score: 0.9896,               std_test_score: 0.0004,               \n",
      "\t mean_fit_time: 2.864,               mean_score_time: 0.0488\n",
      "\n",
      "Zastosowane parametry:\n",
      "\t ('model__criterion', 'gini')\n",
      "\t ('model__max_depth', None)\n",
      "\t ('model__min_samples_split', 100)\n",
      "Wyniki: \n",
      "\t mean_test_score: 0.9689,               std_test_score: 0.0012,               \n",
      "\t mean_fit_time: 2.9216,               mean_score_time: 0.0581\n",
      "\n",
      "Zastosowane parametry:\n",
      "\t ('model__criterion', 'gini')\n",
      "\t ('model__max_depth', 2)\n",
      "\t ('model__min_samples_split', 2)\n",
      "Wyniki: \n",
      "\t mean_test_score: 0.7332,               std_test_score: 0.0009,               \n",
      "\t mean_fit_time: 0.5075,               mean_score_time: 0.0464\n",
      "\n",
      "Zastosowane parametry:\n",
      "\t ('model__criterion', 'gini')\n",
      "\t ('model__max_depth', 2)\n",
      "\t ('model__min_samples_split', 10)\n",
      "Wyniki: \n",
      "\t mean_test_score: 0.7332,               std_test_score: 0.0009,               \n",
      "\t mean_fit_time: 0.8703,               mean_score_time: 0.0607\n",
      "\n",
      "Zastosowane parametry:\n",
      "\t ('model__criterion', 'gini')\n",
      "\t ('model__max_depth', 2)\n",
      "\t ('model__min_samples_split', 100)\n",
      "Wyniki: \n",
      "\t mean_test_score: 0.7332,               std_test_score: 0.0009,               \n",
      "\t mean_fit_time: 0.6221,               mean_score_time: 0.0333\n",
      "\n",
      "Zastosowane parametry:\n",
      "\t ('model__criterion', 'gini')\n",
      "\t ('model__max_depth', 10)\n",
      "\t ('model__min_samples_split', 2)\n",
      "Wyniki: \n",
      "\t mean_test_score: 0.8501,               std_test_score: 0.0025,               \n",
      "\t mean_fit_time: 1.8351,               mean_score_time: 0.0344\n",
      "\n",
      "Zastosowane parametry:\n",
      "\t ('model__criterion', 'gini')\n",
      "\t ('model__max_depth', 10)\n",
      "\t ('model__min_samples_split', 10)\n",
      "Wyniki: \n",
      "\t mean_test_score: 0.8501,               std_test_score: 0.0024,               \n",
      "\t mean_fit_time: 1.186,               mean_score_time: 0.0419\n",
      "\n",
      "Zastosowane parametry:\n",
      "\t ('model__criterion', 'gini')\n",
      "\t ('model__max_depth', 10)\n",
      "\t ('model__min_samples_split', 100)\n",
      "Wyniki: \n",
      "\t mean_test_score: 0.8464,               std_test_score: 0.0029,               \n",
      "\t mean_fit_time: 1.2084,               mean_score_time: 0.0319\n",
      "\n",
      "Zastosowane parametry:\n",
      "\t ('model__criterion', 'gini')\n",
      "\t ('model__max_depth', 100)\n",
      "\t ('model__min_samples_split', 2)\n",
      "Wyniki: \n",
      "\t mean_test_score: 0.9898,               std_test_score: 0.0005,               \n",
      "\t mean_fit_time: 2.2659,               mean_score_time: 0.041\n",
      "\n",
      "Zastosowane parametry:\n",
      "\t ('model__criterion', 'gini')\n",
      "\t ('model__max_depth', 100)\n",
      "\t ('model__min_samples_split', 10)\n",
      "Wyniki: \n",
      "\t mean_test_score: 0.9896,               std_test_score: 0.0002,               \n",
      "\t mean_fit_time: 2.6036,               mean_score_time: 0.0449\n",
      "\n",
      "Zastosowane parametry:\n",
      "\t ('model__criterion', 'gini')\n",
      "\t ('model__max_depth', 100)\n",
      "\t ('model__min_samples_split', 100)\n",
      "Wyniki: \n",
      "\t mean_test_score: 0.9689,               std_test_score: 0.0012,               \n",
      "\t mean_fit_time: 3.4724,               mean_score_time: 0.0435\n",
      "\n",
      "Zastosowane parametry:\n",
      "\t ('model__criterion', 'entropy')\n",
      "\t ('model__max_depth', None)\n",
      "\t ('model__min_samples_split', 2)\n",
      "Wyniki: \n",
      "\t mean_test_score: 0.9897,               std_test_score: 0.0007,               \n",
      "\t mean_fit_time: 2.4155,               mean_score_time: 0.0471\n",
      "\n",
      "Zastosowane parametry:\n",
      "\t ('model__criterion', 'entropy')\n",
      "\t ('model__max_depth', None)\n",
      "\t ('model__min_samples_split', 10)\n",
      "Wyniki: \n",
      "\t mean_test_score: 0.9895,               std_test_score: 0.0007,               \n",
      "\t mean_fit_time: 2.4025,               mean_score_time: 0.0374\n",
      "\n",
      "Zastosowane parametry:\n",
      "\t ('model__criterion', 'entropy')\n",
      "\t ('model__max_depth', None)\n",
      "\t ('model__min_samples_split', 100)\n",
      "Wyniki: \n",
      "\t mean_test_score: 0.974,               std_test_score: 0.0023,               \n",
      "\t mean_fit_time: 2.6399,               mean_score_time: 0.0678\n",
      "\n",
      "Zastosowane parametry:\n",
      "\t ('model__criterion', 'entropy')\n",
      "\t ('model__max_depth', 2)\n",
      "\t ('model__min_samples_split', 2)\n",
      "Wyniki: \n",
      "\t mean_test_score: 0.7332,               std_test_score: 0.0009,               \n",
      "\t mean_fit_time: 0.4849,               mean_score_time: 0.028\n",
      "\n",
      "Zastosowane parametry:\n",
      "\t ('model__criterion', 'entropy')\n",
      "\t ('model__max_depth', 2)\n",
      "\t ('model__min_samples_split', 10)\n",
      "Wyniki: \n",
      "\t mean_test_score: 0.7332,               std_test_score: 0.0009,               \n",
      "\t mean_fit_time: 0.5366,               mean_score_time: 0.0281\n",
      "\n",
      "Zastosowane parametry:\n",
      "\t ('model__criterion', 'entropy')\n",
      "\t ('model__max_depth', 2)\n",
      "\t ('model__min_samples_split', 100)\n",
      "Wyniki: \n",
      "\t mean_test_score: 0.7332,               std_test_score: 0.0009,               \n",
      "\t mean_fit_time: 0.619,               mean_score_time: 0.0552\n",
      "\n",
      "Zastosowane parametry:\n",
      "\t ('model__criterion', 'entropy')\n",
      "\t ('model__max_depth', 10)\n",
      "\t ('model__min_samples_split', 2)\n",
      "Wyniki: \n",
      "\t mean_test_score: 0.8354,               std_test_score: 0.0022,               \n",
      "\t mean_fit_time: 1.9874,               mean_score_time: 0.0317\n",
      "\n",
      "Zastosowane parametry:\n",
      "\t ('model__criterion', 'entropy')\n",
      "\t ('model__max_depth', 10)\n",
      "\t ('model__min_samples_split', 10)\n",
      "Wyniki: \n",
      "\t mean_test_score: 0.8353,               std_test_score: 0.0022,               \n",
      "\t mean_fit_time: 1.2826,               mean_score_time: 0.0324\n",
      "\n",
      "Zastosowane parametry:\n",
      "\t ('model__criterion', 'entropy')\n",
      "\t ('model__max_depth', 10)\n",
      "\t ('model__min_samples_split', 100)\n",
      "Wyniki: \n",
      "\t mean_test_score: 0.8346,               std_test_score: 0.0021,               \n",
      "\t mean_fit_time: 1.2885,               mean_score_time: 0.0319\n",
      "\n",
      "Zastosowane parametry:\n",
      "\t ('model__criterion', 'entropy')\n",
      "\t ('model__max_depth', 100)\n",
      "\t ('model__min_samples_split', 2)\n",
      "Wyniki: \n",
      "\t mean_test_score: 0.99,               std_test_score: 0.0006,               \n",
      "\t mean_fit_time: 2.2883,               mean_score_time: 0.0381\n",
      "\n",
      "Zastosowane parametry:\n",
      "\t ('model__criterion', 'entropy')\n",
      "\t ('model__max_depth', 100)\n",
      "\t ('model__min_samples_split', 10)\n",
      "Wyniki: \n",
      "\t mean_test_score: 0.9897,               std_test_score: 0.0006,               \n",
      "\t mean_fit_time: 2.5952,               mean_score_time: 0.0482\n",
      "\n",
      "Zastosowane parametry:\n",
      "\t ('model__criterion', 'entropy')\n",
      "\t ('model__max_depth', 100)\n",
      "\t ('model__min_samples_split', 100)\n",
      "Wyniki: \n",
      "\t mean_test_score: 0.974,               std_test_score: 0.0021,               \n",
      "\t mean_fit_time: 3.3086,               mean_score_time: 0.0443\n",
      "\n"
     ]
    },
    {
     "data": {
      "text/markdown": [
       "**Tunuje model: BaggingClassifier_tree**"
      ],
      "text/plain": [
       "<IPython.core.display.Markdown object>"
      ]
     },
     "metadata": {},
     "output_type": "display_data"
    },
    {
     "name": "stderr",
     "output_type": "stream",
     "text": [
      "/home/kodolamacz/anaconda3/lib/python3.7/site-packages/sklearn/externals/joblib/externals/loky/process_executor.py:706: UserWarning: A worker stopped while some jobs were given to the executor. This can be caused by a too short worker timeout or by a memory leak.\n",
      "  \"timeout or by a memory leak.\", UserWarning\n"
     ]
    },
    {
     "name": "stdout",
     "output_type": "stream",
     "text": [
      "Zastosowane parametry:\n",
      "\t ('model__max_features', 0.5)\n",
      "\t ('model__n_estimators', 2)\n",
      "Wyniki: \n",
      "\t mean_test_score: 0.9975,               std_test_score: 0.0002,               \n",
      "\t mean_fit_time: 1.492,               mean_score_time: 0.0876\n",
      "\n",
      "Zastosowane parametry:\n",
      "\t ('model__max_features', 0.5)\n",
      "\t ('model__n_estimators', 5)\n",
      "Wyniki: \n",
      "\t mean_test_score: 0.9965,               std_test_score: 0.0018,               \n",
      "\t mean_fit_time: 3.4539,               mean_score_time: 0.1904\n",
      "\n",
      "Zastosowane parametry:\n",
      "\t ('model__max_features', 0.5)\n",
      "\t ('model__n_estimators', 200)\n",
      "Wyniki: \n",
      "\t mean_test_score: 0.9992,               std_test_score: 0.0001,               \n",
      "\t mean_fit_time: 152.1074,               mean_score_time: 4.8891\n",
      "\n",
      "Zastosowane parametry:\n",
      "\t ('model__max_features', 0.8)\n",
      "\t ('model__n_estimators', 2)\n",
      "Wyniki: \n",
      "\t mean_test_score: 0.9973,               std_test_score: 0.0005,               \n",
      "\t mean_fit_time: 2.7976,               mean_score_time: 0.1073\n",
      "\n",
      "Zastosowane parametry:\n",
      "\t ('model__max_features', 0.8)\n",
      "\t ('model__n_estimators', 5)\n",
      "Wyniki: \n",
      "\t mean_test_score: 0.9968,               std_test_score: 0.0002,               \n",
      "\t mean_fit_time: 6.6199,               mean_score_time: 0.1526\n",
      "\n",
      "Zastosowane parametry:\n",
      "\t ('model__max_features', 0.8)\n",
      "\t ('model__n_estimators', 200)\n",
      "Wyniki: \n",
      "\t mean_test_score: 0.9994,               std_test_score: 0.0001,               \n",
      "\t mean_fit_time: 262.0671,               mean_score_time: 6.1661\n",
      "\n",
      "Zastosowane parametry:\n",
      "\t ('model__max_features', 0.9)\n",
      "\t ('model__n_estimators', 2)\n",
      "Wyniki: \n",
      "\t mean_test_score: 0.997,               std_test_score: 0.0003,               \n",
      "\t mean_fit_time: 3.3842,               mean_score_time: 0.082\n",
      "\n",
      "Zastosowane parametry:\n",
      "\t ('model__max_features', 0.9)\n",
      "\t ('model__n_estimators', 5)\n",
      "Wyniki: \n",
      "\t mean_test_score: 0.9964,               std_test_score: 0.0005,               \n",
      "\t mean_fit_time: 6.8234,               mean_score_time: 0.1553\n",
      "\n",
      "Zastosowane parametry:\n",
      "\t ('model__max_features', 0.9)\n",
      "\t ('model__n_estimators', 200)\n",
      "Wyniki: \n",
      "\t mean_test_score: 0.999,               std_test_score: 0.0002,               \n",
      "\t mean_fit_time: 297.2688,               mean_score_time: 6.2712\n",
      "\n",
      "Zastosowane parametry:\n",
      "\t ('model__max_features', 1.0)\n",
      "\t ('model__n_estimators', 2)\n",
      "Wyniki: \n",
      "\t mean_test_score: 0.9968,               std_test_score: 0.0001,               \n",
      "\t mean_fit_time: 2.9598,               mean_score_time: 0.0757\n",
      "\n",
      "Zastosowane parametry:\n",
      "\t ('model__max_features', 1.0)\n",
      "\t ('model__n_estimators', 5)\n",
      "Wyniki: \n",
      "\t mean_test_score: 0.9942,               std_test_score: 0.0005,               \n",
      "\t mean_fit_time: 9.1047,               mean_score_time: 0.1559\n",
      "\n",
      "Zastosowane parametry:\n",
      "\t ('model__max_features', 1.0)\n",
      "\t ('model__n_estimators', 200)\n",
      "Wyniki: \n",
      "\t mean_test_score: 0.9981,               std_test_score: 0.0004,               \n",
      "\t mean_fit_time: 340.1513,               mean_score_time: 6.3101\n",
      "\n"
     ]
    },
    {
     "data": {
      "text/markdown": [
       "**Tunuje model: RandomForest**"
      ],
      "text/plain": [
       "<IPython.core.display.Markdown object>"
      ]
     },
     "metadata": {},
     "output_type": "display_data"
    },
    {
     "name": "stdout",
     "output_type": "stream",
     "text": [
      "Zastosowane parametry:\n",
      "\t ('model__class_weight', 'balanced_subsample')\n",
      "\t ('model__n_estimators', 2)\n",
      "Wyniki: \n",
      "\t mean_test_score: 0.9979,               std_test_score: 0.0002,               \n",
      "\t mean_fit_time: 1.7413,               mean_score_time: 0.1162\n",
      "\n",
      "Zastosowane parametry:\n",
      "\t ('model__class_weight', 'balanced_subsample')\n",
      "\t ('model__n_estimators', 5)\n",
      "Wyniki: \n",
      "\t mean_test_score: 0.9972,               std_test_score: 0.0001,               \n",
      "\t mean_fit_time: 2.843,               mean_score_time: 0.145\n",
      "\n",
      "Zastosowane parametry:\n",
      "\t ('model__class_weight', 'balanced_subsample')\n",
      "\t ('model__n_estimators', 200)\n",
      "Wyniki: \n",
      "\t mean_test_score: 0.9995,               std_test_score: 0.0,               \n",
      "\t mean_fit_time: 108.5553,               mean_score_time: 4.4199\n",
      "\n",
      "Zastosowane parametry:\n",
      "\t ('model__class_weight', 'balanced')\n",
      "\t ('model__n_estimators', 2)\n",
      "Wyniki: \n",
      "\t mean_test_score: 0.9978,               std_test_score: 0.0001,               \n",
      "\t mean_fit_time: 0.9104,               mean_score_time: 0.0729\n",
      "\n",
      "Zastosowane parametry:\n",
      "\t ('model__class_weight', 'balanced')\n",
      "\t ('model__n_estimators', 5)\n",
      "Wyniki: \n",
      "\t mean_test_score: 0.9971,               std_test_score: 0.0003,               \n",
      "\t mean_fit_time: 1.967,               mean_score_time: 0.1325\n",
      "\n",
      "Zastosowane parametry:\n",
      "\t ('model__class_weight', 'balanced')\n",
      "\t ('model__n_estimators', 200)\n",
      "Wyniki: \n",
      "\t mean_test_score: 0.9994,               std_test_score: 0.0001,               \n",
      "\t mean_fit_time: 83.3826,               mean_score_time: 4.9402\n",
      "\n"
     ]
    },
    {
     "data": {
      "text/markdown": [
       "**Tunuje model: bzprmRandomForest**"
      ],
      "text/plain": [
       "<IPython.core.display.Markdown object>"
      ]
     },
     "metadata": {},
     "output_type": "display_data"
    },
    {
     "name": "stdout",
     "output_type": "stream",
     "text": [
      "Zastosowane parametry:\n",
      "Wyniki: \n",
      "\t mean_test_score: 0.9985,               std_test_score: 0.0002,               \n",
      "\t mean_fit_time: 143.9021,               mean_score_time: 4.9924\n",
      "\n",
      "____________________\n",
      "\n",
      "\n"
     ]
    }
   ],
   "source": [
    "# Wybór najlepszych modeli, prezentacja wyników\n",
    "\n",
    "\n",
    "if len(names) != len(models) or len(models) != len(param_grids) or len(param_grids) != len(uses):\n",
    "    print(f\"len(names): {len(names)}\")\n",
    "    print(f\"len(models): {len(models)}\")\n",
    "    print(f\"len(param_grids): {len(param_grids)}\")\n",
    "    print(f\"len(uses): {len(uses)}\")\n",
    "    raise ValueError(\"Listy nie mają tej samej długości!\")\n",
    "\n",
    "# puste listy do których wpisane zostana wybrane parametry i wyniki modeli\n",
    "best_models = []\n",
    "best_params = []\n",
    "best_indexes = []\n",
    "tab_ROC_AUC = []\n",
    "tab_accuracy = []\n",
    "names_rslt = [] # lista z nazwami modeli, które zostały faktycznie przetestowane\n",
    "\n",
    "\n",
    "for use, name, pipe, params in zip(uses, names, models, param_grids):\n",
    "    if not use:\n",
    "        continue\n",
    "    printmd(f\"**Tunuje model: {name}**\") \n",
    "    pipeline = Pipeline(pipe)\n",
    "    gs = GridSearchCV(estimator=pipeline, param_grid=params, n_jobs=3)\n",
    "    gs.fit(X_train, y_train)\n",
    "    for mean, std, param, fit_time, score_time in zip(gs.cv_results_[\"mean_test_score\"],\n",
    "                                gs.cv_results_[\"std_test_score\"],\n",
    "                                gs.cv_results_[\"params\"],\n",
    "                                gs.cv_results_[\"mean_fit_time\"],\n",
    "                                gs.cv_results_[\"mean_score_time\"]):\n",
    "        print(\"Zastosowane parametry:\")\n",
    "        for i in param.items():\n",
    "            print(f\"\\t {i}\")\n",
    "        #print(f\"\\t {param}:\\n\\t mean_test_score: {mean}, std_test_score: {std},\\n\\t mean_fit_time: {fit_time}, mean_score_time: {score_time}\\n\")\n",
    "        print(f\"Wyniki: \\n\\t mean_test_score: {round(mean, 4)}, \\\n",
    "              std_test_score: {round(std, 4)}, \\\n",
    "              \\n\\t mean_fit_time: {round(fit_time, 4)}, \\\n",
    "              mean_score_time: {round(score_time, 4)}\\n\")\n",
    "    names_rslt.append(name)\n",
    "    best_models.append(gs.best_estimator_)\n",
    "    best_params.append(gs.best_params_)\n",
    "    best_indexes.append(gs.best_index_)\n",
    "    \n",
    "best_models = np.array(best_models)\n",
    "best_params = np.array(best_params)\n",
    "best_indexes = np.array(best_indexes)\n",
    "names_rslt = np.array(names_rslt)\n",
    "\n",
    "\n",
    "print(f\"____________________\\n\\n\")\n",
    "\n",
    "#print(f\"\\n\")\n",
    "#printmd(f\"**Testuję accuracy:**\")\n",
    "#for name, best_model in zip(names, best_models):\n",
    "#    if not use:\n",
    "#        continue\n",
    "#    tab_accuracy.append(roc_auc_score(best_model.predict(X_test), y_test))\n",
    "#    print(f\"\\t {name}: {round(accuracy_score(best_model.predict(X_test), y_test), 4)}\")\n"
   ]
  },
  {
   "cell_type": "code",
   "execution_count": 169,
   "metadata": {},
   "outputs": [
    {
     "name": "stdout",
     "output_type": "stream",
     "text": [
      "\n",
      "\n"
     ]
    },
    {
     "data": {
      "text/markdown": [
       "**Testuję ROC_AUC (jeśli możliwa do obliczenia):**"
      ],
      "text/plain": [
       "<IPython.core.display.Markdown object>"
      ]
     },
     "metadata": {},
     "output_type": "display_data"
    },
    {
     "name": "stdout",
     "output_type": "stream",
     "text": [
      "Drzewo decyzyjne: 0.5309\n",
      "BaggingClassifier_tree: 0.524\n",
      "RandomForest: 0.5261\n",
      "bzprmRandomForest: 0.5261\n"
     ]
    },
    {
     "data": {
      "text/markdown": [
       "**Testuję accuracy:**"
      ],
      "text/plain": [
       "<IPython.core.display.Markdown object>"
      ]
     },
     "metadata": {},
     "output_type": "display_data"
    },
    {
     "name": "stdout",
     "output_type": "stream",
     "text": [
      "Drzewo decyzyjne: 0.9732\n",
      "Confusion matrix ma postać:\n",
      "[[16911   233]\n",
      " [  233    19]]\n",
      "\n",
      "\n",
      "BaggingClassifier_tree: 0.9847\n",
      "Confusion matrix ma postać:\n",
      "[[17129   251]\n",
      " [   15     1]]\n",
      "\n",
      "\n",
      "RandomForest: 0.9848\n",
      "Confusion matrix ma postać:\n",
      "[[17130   251]\n",
      " [   14     1]]\n",
      "\n",
      "\n",
      "bzprmRandomForest: 0.984\n",
      "Confusion matrix ma postać:\n",
      "[[17116   250]\n",
      " [   28     2]]\n",
      "\n",
      "\n"
     ]
    }
   ],
   "source": [
    "print(f\"\\n\")\n",
    "printmd(f\"**Testuję ROC_AUC (jeśli możliwa do obliczenia):**\")\n",
    "for name, best_model in zip(names_rslt, best_models):\n",
    "    #print(f\"\\nConfusion matrix ma postać:\")\n",
    "    #print(f\" {name}\")\n",
    "    cm = confusion_matrix(best_model.predict(X_test), y_test)\n",
    "    #print(cm)\n",
    "    if cm[1,1] !=0: \n",
    "        tab_ROC_AUC.append(roc_auc_score(best_model.predict(X_test), y_test))\n",
    "        print(f\"{name}: {round(roc_auc_score(best_model.predict(X_test), y_test), 4)}\")\n",
    "    else:\n",
    "        # jeśli przez model wyznaczana jest tylko jedna wartość dla y czyli \"0\" \n",
    "        # to nie liczymy ROC_AUC, z założenia wstawiam nan w takim przypadku.\n",
    "        tab_ROC_AUC.append(np.nan)\n",
    "\n",
    "\n",
    "printmd(f\"**Testuję accuracy:**\")\n",
    "for name, best_model in zip(names_rslt, best_models):\n",
    "    tab_accuracy.append(accuracy_score(best_model.predict(X_test), y_test))\n",
    "    print(f\"{name}: {round(accuracy_score(best_model.predict(X_test), y_test), 4)}\")\n",
    "    print(f\"Confusion matrix ma postać:\")\n",
    "    cm = confusion_matrix(best_model.predict(X_test), y_test)\n",
    "    print(cm)\n",
    "    print(f\"\\n\")"
   ]
  },
  {
   "cell_type": "markdown",
   "metadata": {},
   "source": [
    "## Zestawienie wyników (ze względu na wynik ACCURACY)"
   ]
  },
  {
   "cell_type": "code",
   "execution_count": 198,
   "metadata": {},
   "outputs": [
    {
     "data": {
      "text/html": [
       "<div>\n",
       "<style scoped>\n",
       "    .dataframe tbody tr th:only-of-type {\n",
       "        vertical-align: middle;\n",
       "    }\n",
       "\n",
       "    .dataframe tbody tr th {\n",
       "        vertical-align: top;\n",
       "    }\n",
       "\n",
       "    .dataframe thead th {\n",
       "        text-align: right;\n",
       "    }\n",
       "</style>\n",
       "<table border=\"1\" class=\"dataframe\">\n",
       "  <thead>\n",
       "    <tr style=\"text-align: right;\">\n",
       "      <th></th>\n",
       "      <th>BEST_PARAMS</th>\n",
       "      <th>ACCURACY</th>\n",
       "      <th>ROC_AUC</th>\n",
       "    </tr>\n",
       "  </thead>\n",
       "  <tbody>\n",
       "    <tr>\n",
       "      <th>RandomForest</th>\n",
       "      <td>{'model__class_weight': 'balanced_subsample', 'model__n_estimators': 200}</td>\n",
       "      <td>0.984767</td>\n",
       "      <td>0.526113</td>\n",
       "    </tr>\n",
       "    <tr>\n",
       "      <th>BaggingClassifier_tree</th>\n",
       "      <td>{'model__max_features': 0.8, 'model__n_estimators': 200}</td>\n",
       "      <td>0.984709</td>\n",
       "      <td>0.524029</td>\n",
       "    </tr>\n",
       "    <tr>\n",
       "      <th>bzprmRandomForest</th>\n",
       "      <td>{}</td>\n",
       "      <td>0.984019</td>\n",
       "      <td>0.526135</td>\n",
       "    </tr>\n",
       "    <tr>\n",
       "      <th>Drzewo decyzyjne</th>\n",
       "      <td>{'model__criterion': 'entropy', 'model__max_depth': 100, 'model__min_samples_split': 2}</td>\n",
       "      <td>0.973212</td>\n",
       "      <td>0.530903</td>\n",
       "    </tr>\n",
       "  </tbody>\n",
       "</table>\n",
       "</div>"
      ],
      "text/plain": [
       "                                                                                                    BEST_PARAMS  \\\n",
       "RandomForest                          {'model__class_weight': 'balanced_subsample', 'model__n_estimators': 200}   \n",
       "BaggingClassifier_tree                                 {'model__max_features': 0.8, 'model__n_estimators': 200}   \n",
       "bzprmRandomForest                                                                                            {}   \n",
       "Drzewo decyzyjne        {'model__criterion': 'entropy', 'model__max_depth': 100, 'model__min_samples_split': 2}   \n",
       "\n",
       "                        ACCURACY   ROC_AUC  \n",
       "RandomForest            0.984767  0.526113  \n",
       "BaggingClassifier_tree  0.984709  0.524029  \n",
       "bzprmRandomForest       0.984019  0.526135  \n",
       "Drzewo decyzyjne        0.973212  0.530903  "
      ]
     },
     "execution_count": 198,
     "metadata": {},
     "output_type": "execute_result"
    }
   ],
   "source": [
    "# wpisanie wybranych parametrów i wyników testowanych modeli do ramki danych pandas\n",
    "# posłuży mi to również do porównania wyników danego i poprzedniego przebiegu uczenia i testowania modeli\n",
    "# (powyżej, przejściowo, będę miał wyniki bieżące, a poniżej te z poprzedniego przetwarzania,\n",
    "# dopóki finalnie nie uruchomie kodu tu zawartego)\n",
    "miary_wynikowe = ['BEST_PARAMS', 'ACCURACY', 'ROC_AUC']\n",
    "zestawienie_wynikow = pd.DataFrame(list(zip(best_params, tab_accuracy, tab_ROC_AUC)), index = names_rslt, columns= miary_wynikowe)\n",
    "\n",
    "pd.set_option('display.max_colwidth', 800)\n",
    "zestawienie_wynikow.sort_values(\"ACCURACY\", ascending=False)"
   ]
  },
  {
   "cell_type": "markdown",
   "metadata": {},
   "source": [
    "# Podsumowanie wyników\n",
    "Niestety dla wszystkich kombinacji zbiorów testowych wynik modeli w zakresie ROC_AUC wychodzi słaby bo w okolicach 0,5 - 0,53.\n",
    "1. Jeśli nie równoważymy danych testowych to w zasadzie tylko dla RandomForest można było wyliczyć ROC_AUC (przy minimum zmiennych) pozostałe modele (drzewo decyzyjne, BaggingClassifier_tree, bzprmRandomForest) notowały zerową skuteczność predykcji \"1\" w zmiennej y.\n",
    "Jednocześnie, modele te osiągają wyniki w ACCURACY na poziomie 0,966 - 0,985 (choć akurat Random Forest ma nieco słabe niż reszta).\n",
    "2. Jeśli równoważymy dane testowe to wyniki ROC_AUC tylko minimalnie się polepszają (0,53 - Drzewo decyzyjne, wszystkie zmienne) natomiast accuracy pozostaje na podobnym poziomie. \n"
   ]
  },
  {
   "cell_type": "markdown",
   "metadata": {},
   "source": [
    "Co do zmiennych, które w założeniach uznałem za mało znaczące: \"Gender_Male\", \"Mobile_Verified_Y\", \"Filled_Form_Y\", \"Device_Type_Mobile\", \"estimated_age_in_years\" to przy równoważeniu danych testowych mają one pewien niewielki wpływ na wyniki (setne cześci wyniku)"
   ]
  },
  {
   "cell_type": "markdown",
   "metadata": {},
   "source": [
    "## Poniżej dodatkowe, niezależne rozwiązanie przy zastosowaniu xgboost\n",
    "XGBRegressor (objective ='reg:logistic')"
   ]
  },
  {
   "cell_type": "code",
   "execution_count": 191,
   "metadata": {},
   "outputs": [],
   "source": [
    "#!pip install xgboost"
   ]
  },
  {
   "cell_type": "code",
   "execution_count": 180,
   "metadata": {},
   "outputs": [],
   "source": [
    "import xgboost as xgb\n",
    "import matplotlib.pyplot as plt\n",
    "from sklearn.metrics import roc_curve, auc, recall_score, precision_score\n",
    "from termcolor import colored"
   ]
  },
  {
   "cell_type": "code",
   "execution_count": 181,
   "metadata": {},
   "outputs": [],
   "source": [
    "if zrownowaz_dane_train == True:\n",
    "    # Połączenie zbiorów treningowych (ze zrównoważonymi danymi 0 i 1 dla zmiennej Disbursed) oraz testowych\n",
    "    # w jeden zbiór: X i y w celu zdefiniowania xgb.Dmatrix\n",
    "    X = pd.concat([X_test, X_train], axis=0)\n",
    "    y = pd.concat([y_test, y_train], axis=0)\n",
    "\n",
    "else:\n",
    "    # Zdefiniowanie finalnych postaci zmiennych X i y w przypadku rezygnacji z równoważenia 0 i 1 w zbiorze trenującym\n",
    "    X_test, y_test = X_test_a, y_test_a\n",
    "    X_train, y_train = X_train_a, y_train_a\n",
    "    X, y = X_a, y_a"
   ]
  },
  {
   "cell_type": "code",
   "execution_count": 182,
   "metadata": {},
   "outputs": [
    {
     "data": {
      "text/plain": [
       "(154518, 19)"
      ]
     },
     "execution_count": 182,
     "metadata": {},
     "output_type": "execute_result"
    }
   ],
   "source": [
    "X.shape"
   ]
  },
  {
   "cell_type": "code",
   "execution_count": 183,
   "metadata": {},
   "outputs": [
    {
     "data": {
      "text/plain": [
       "(154518,)"
      ]
     },
     "execution_count": 183,
     "metadata": {},
     "output_type": "execute_result"
    }
   ],
   "source": [
    "y.shape"
   ]
  },
  {
   "cell_type": "code",
   "execution_count": 184,
   "metadata": {},
   "outputs": [],
   "source": [
    "data_dmatrix = xgb.DMatrix(data=X,label=y)"
   ]
  },
  {
   "cell_type": "code",
   "execution_count": 185,
   "metadata": {},
   "outputs": [],
   "source": [
    "xgb_model = xgb.XGBRegressor(objective ='reg:logistic', colsample_bytree = 0.3, learning_rate = 0.1,\n",
    "                max_depth = 7, alpha = 10, n_estimators = 200)"
   ]
  },
  {
   "cell_type": "code",
   "execution_count": 186,
   "metadata": {},
   "outputs": [],
   "source": [
    "xgb_model.fit(X_train,y_train)\n",
    "predict_eval = xgb_model.predict(X_test)"
   ]
  },
  {
   "cell_type": "code",
   "execution_count": 187,
   "metadata": {},
   "outputs": [
    {
     "name": "stdout",
     "output_type": "stream",
     "text": [
      "RMSE: 0.279623\n"
     ]
    }
   ],
   "source": [
    "from sklearn.metrics import mean_squared_error\n",
    "rmse = np.sqrt(mean_squared_error(y_test, predict_eval))\n",
    "print(\"RMSE: %f\" % (rmse))"
   ]
  },
  {
   "cell_type": "code",
   "execution_count": 210,
   "metadata": {},
   "outputs": [
    {
     "name": "stdout",
     "output_type": "stream",
     "text": [
      "\u001b[32mROC AUC wynosi: \u001b[0m \u001b[32m0.8298\u001b[0m\n",
      "\u001b[32mConfusion Matrix ma postać: \u001b[0m \n",
      " [[15199   131]\n",
      " [ 1945   121]]\n",
      "\u001b[31mACCURACY wynosi: \u001b[0m \u001b[31m0.8807\u001b[0m\n"
     ]
    }
   ],
   "source": [
    "# Obliczenie ROC_AUC, wyznaczenie krzywej i powierzchni pod krzywą ROC\n",
    "#fpr - macierz wyników false positive - narastająco\n",
    "#tpr - macierz wyników true positive - narastająco\n",
    "fpr, tpr, _ = roc_curve(y_test, predict_eval)\n",
    "roc_auc = auc(fpr, tpr)\n",
    "tab_ROC_AUC.append(roc_auc)\n",
    "print(colored('ROC AUC wynosi: ', 'green'), colored(round(roc_auc, 4), 'green'))\n",
    "cm = confusion_matrix((predict_eval > 0.5), y_test)\n",
    "print(colored('Confusion Matrix ma postać: ', 'green'),'\\n', cm)\n",
    "accuracy = (cm[0,0] + cm[1,1])/(cm[0,0] + cm[1,1]+cm[1,0] + cm[0,1])\n",
    "print(colored('ACCURACY wynosi: ', 'red'), colored(round(accuracy, 4), 'red'))\n",
    "tab_accuracy.append(accuracy)"
   ]
  },
  {
   "cell_type": "markdown",
   "metadata": {},
   "source": [
    "Regressor wyraźnie lepiej predykuje \"1\" w y jednakże pogarsza się predykcja dla \"0\" i wynik ogolny ACCURACY."
   ]
  },
  {
   "cell_type": "code",
   "execution_count": 207,
   "metadata": {},
   "outputs": [
    {
     "data": {
      "image/png": "[encoded data removed]",
      "text/plain": [
       "<Figure size 432x288 with 1 Axes>"
      ]
     },
     "metadata": {
      "needs_background": "light"
     },
     "output_type": "display_data"
    }
   ],
   "source": [
    "    #xgb.plot_importance(gbm)\n",
    "    #plt.show()\n",
    "    plt.figure()\n",
    "    lw = 2\n",
    "    plt.plot(fpr, tpr, color='darkorange',\n",
    "             lw=lw, label='Krzywa ROC (pow = %0.2f)' % roc_auc)\n",
    "    plt.plot([0, 1], [0, 1], color='navy', lw=lw, linestyle='--')\n",
    "    plt.xlim([-0.02, 1.0])\n",
    "    plt.ylim([0.0, 1.05])\n",
    "    plt.xlabel('False Positive Rate')\n",
    "    plt.ylabel('True Positive Rate')\n",
    "    plt.title('Krzywa ROC')\n",
    "    plt.legend(loc=\"lower right\")\n",
    "    plt.show()"
   ]
  },
  {
   "cell_type": "markdown",
   "metadata": {},
   "source": [
    "## Poniżej są już tylko kontrolne wyświetlenia wybranych zmiennych"
   ]
  },
  {
   "cell_type": "code",
   "execution_count": 171,
   "metadata": {},
   "outputs": [
    {
     "data": {
      "text/plain": [
       "array([0, 0, 0, ..., 0, 0, 0])"
      ]
     },
     "execution_count": 171,
     "metadata": {},
     "output_type": "execute_result"
    }
   ],
   "source": [
    "best_model.predict(X_test)"
   ]
  },
  {
   "cell_type": "code",
   "execution_count": 172,
   "metadata": {},
   "outputs": [],
   "source": [
    "#cm = confusion_matrix(best_model.predict(X_test), y_test)\n",
    "#print(cm)"
   ]
  },
  {
   "cell_type": "code",
   "execution_count": 173,
   "metadata": {},
   "outputs": [
    {
     "data": {
      "text/plain": [
       "array([21,  5,  2,  0])"
      ]
     },
     "execution_count": 173,
     "metadata": {},
     "output_type": "execute_result"
    }
   ],
   "source": [
    "best_indexes"
   ]
  },
  {
   "cell_type": "code",
   "execution_count": 174,
   "metadata": {},
   "outputs": [
    {
     "data": {
      "text/plain": [
       "array([Pipeline(memory=None,\n",
       "     steps=[('model', DecisionTreeClassifier(class_weight=None, criterion='entropy', max_depth=100,\n",
       "            max_features=None, max_leaf_nodes=None,\n",
       "            min_impurity_decrease=0.0, min_impurity_split=None,\n",
       "            min_samples_leaf=1, min_samples_split=2,\n",
       "            min_weight_fraction_leaf=0.0, presort=False, random_state=None,\n",
       "            splitter='best'))]),\n",
       "       Pipeline(memory=None,\n",
       "     steps=[('model', BaggingClassifier(base_estimator=DecisionTreeClassifier(class_weight=None, criterion='gini', max_depth=None,\n",
       "            max_features=None, max_leaf_nodes=None,\n",
       "            min_impurity_decrease=0.0, min_impurity_split=None,\n",
       "            min_samples_leaf=1, min_samples_split=2,\n",
       "     ...mators=200, n_jobs=None, oob_score=False,\n",
       "         random_state=None, verbose=0, warm_start=False))]),\n",
       "       Pipeline(memory=None,\n",
       "     steps=[('model', RandomForestClassifier(bootstrap=True, class_weight='balanced_subsample',\n",
       "            criterion='gini', max_depth=None, max_features='auto',\n",
       "            max_leaf_nodes=None, min_impurity_decrease=0.0,\n",
       "            min_impurity_split=None, min_samples_leaf=1,\n",
       "            min_samples_split=2, min_weight_fraction_leaf=0.0,\n",
       "            n_estimators=200, n_jobs=None, oob_score=False,\n",
       "            random_state=None, verbose=0, warm_start=False))]),\n",
       "       Pipeline(memory=None,\n",
       "     steps=[('model', RandomForestClassifier(bootstrap=True, class_weight=None, criterion='gini',\n",
       "            max_depth=None, max_features=0.5, max_leaf_nodes=None,\n",
       "            min_impurity_decrease=0.0, min_impurity_split=None,\n",
       "            min_samples_leaf=3, min_samples_split=2,\n",
       "            min_weight_fraction_leaf=0.0, n_estimators=180, n_jobs=-1,\n",
       "            oob_score=False, random_state=None, verbose=0,\n",
       "            warm_start=False))])], dtype=object)"
      ]
     },
     "execution_count": 174,
     "metadata": {},
     "output_type": "execute_result"
    }
   ],
   "source": [
    "best_models"
   ]
  },
  {
   "cell_type": "code",
   "execution_count": 175,
   "metadata": {},
   "outputs": [
    {
     "data": {
      "text/plain": [
       "array([{'model__criterion': 'entropy', 'model__max_depth': 100, 'model__min_samples_split': 2},\n",
       "       {'model__max_features': 0.8, 'model__n_estimators': 200},\n",
       "       {'model__class_weight': 'balanced_subsample', 'model__n_estimators': 200},\n",
       "       {}], dtype=object)"
      ]
     },
     "execution_count": 175,
     "metadata": {},
     "output_type": "execute_result"
    }
   ],
   "source": [
    "best_params"
   ]
  },
  {
   "cell_type": "code",
   "execution_count": 176,
   "metadata": {},
   "outputs": [
    {
     "data": {
      "text/plain": [
       "[0.5309030323904332,\n",
       " 0.5240290563866513,\n",
       " 0.5261128051703968,\n",
       " 0.5261353602825444]"
      ]
     },
     "execution_count": 176,
     "metadata": {},
     "output_type": "execute_result"
    }
   ],
   "source": [
    "tab_ROC_AUC"
   ]
  },
  {
   "cell_type": "code",
   "execution_count": 177,
   "metadata": {},
   "outputs": [
    {
     "data": {
      "text/plain": [
       "[0.9732122326971717, 0.9847091285352955, 0.9847666130144861, 0.984019314785008]"
      ]
     },
     "execution_count": 177,
     "metadata": {},
     "output_type": "execute_result"
    }
   ],
   "source": [
    "tab_accuracy"
   ]
  },
  {
   "cell_type": "code",
   "execution_count": null,
   "metadata": {
    "scrolled": true
   },
   "outputs": [],
   "source": [
    "#with pd.option_context('display.max_rows', 999, 'display.max_columns', 999):\n",
    "#    display(X.head(10))"
   ]
  },
  {
   "cell_type": "code",
   "execution_count": null,
   "metadata": {},
   "outputs": [],
   "source": []
  }
 ],
 "metadata": {
  "kernelspec": {
   "display_name": "Python 3",
   "language": "python",
   "name": "python3"
  },
  "language_info": {
   "codemirror_mode": {
    "name": "ipython",
    "version": 3
   },
   "file_extension": ".py",
   "mimetype": "text/x-python",
   "name": "python",
   "nbconvert_exporter": "python",
   "pygments_lexer": "ipython3",
   "version": "3.7.3"
  }
 },
 "nbformat": 4,
 "nbformat_minor": 2
}
